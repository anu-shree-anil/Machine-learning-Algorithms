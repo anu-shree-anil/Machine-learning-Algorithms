{
  "nbformat": 4,
  "nbformat_minor": 0,
  "metadata": {
    "colab": {
      "name": "Multi logistic regression",
      "provenance": [],
      "collapsed_sections": [],
      "toc_visible": true,
      "authorship_tag": "ABX9TyPh1mAS3HIt02IuuisAR/gZ",
      "include_colab_link": true
    },
    "kernelspec": {
      "name": "python3",
      "display_name": "Python 3"
    },
    "language_info": {
      "name": "python"
    }
  },
  "cells": [
    {
      "cell_type": "markdown",
      "metadata": {
        "id": "view-in-github",
        "colab_type": "text"
      },
      "source": [
        "<a href=\"https://colab.research.google.com/github/anu-shree-anil/Machine-learning-Algorithms/blob/main/Multi_logistic_regression.ipynb\" target=\"_parent\"><img src=\"https://colab.research.google.com/assets/colab-badge.svg\" alt=\"Open In Colab\"/></a>"
      ]
    },
    {
      "cell_type": "code",
      "metadata": {
        "colab": {
          "base_uri": "https://localhost:8080/"
        },
        "id": "ogJrwdltOEVd",
        "outputId": "3aadd492-dd62-4c91-ba5a-c8aa6de90ca8"
      },
      "source": [
        "import pandas as pd\n",
        "import numpy as np\n",
        "from sklearn import datasets\n",
        "from sklearn.model_selection import train_test_split\n",
        "import matplotlib.pyplot as plt\n",
        "import random\n",
        "import math\n",
        "\n",
        "#loading and preprocessing the data\n",
        "iris=datasets.load_iris()\n",
        "print(iris.DESCR)\n",
        "df=pd.DataFrame(data=np.c_[iris['data'],iris['target']],columns=iris['feature_names']+['target'])\n",
        "X=pd.DataFrame(iris.data)\n",
        "Y=pd.DataFrame(iris.target)\n",
        "print(\"ORIGINAL DATA:\")\n",
        "print(df)\n",
        "print(X,Y)"
      ],
      "execution_count": null,
      "outputs": [
        {
          "output_type": "stream",
          "name": "stdout",
          "text": [
            ".. _iris_dataset:\n",
            "\n",
            "Iris plants dataset\n",
            "--------------------\n",
            "\n",
            "**Data Set Characteristics:**\n",
            "\n",
            "    :Number of Instances: 150 (50 in each of three classes)\n",
            "    :Number of Attributes: 4 numeric, predictive attributes and the class\n",
            "    :Attribute Information:\n",
            "        - sepal length in cm\n",
            "        - sepal width in cm\n",
            "        - petal length in cm\n",
            "        - petal width in cm\n",
            "        - class:\n",
            "                - Iris-Setosa\n",
            "                - Iris-Versicolour\n",
            "                - Iris-Virginica\n",
            "                \n",
            "    :Summary Statistics:\n",
            "\n",
            "    ============== ==== ==== ======= ===== ====================\n",
            "                    Min  Max   Mean    SD   Class Correlation\n",
            "    ============== ==== ==== ======= ===== ====================\n",
            "    sepal length:   4.3  7.9   5.84   0.83    0.7826\n",
            "    sepal width:    2.0  4.4   3.05   0.43   -0.4194\n",
            "    petal length:   1.0  6.9   3.76   1.76    0.9490  (high!)\n",
            "    petal width:    0.1  2.5   1.20   0.76    0.9565  (high!)\n",
            "    ============== ==== ==== ======= ===== ====================\n",
            "\n",
            "    :Missing Attribute Values: None\n",
            "    :Class Distribution: 33.3% for each of 3 classes.\n",
            "    :Creator: R.A. Fisher\n",
            "    :Donor: Michael Marshall (MARSHALL%PLU@io.arc.nasa.gov)\n",
            "    :Date: July, 1988\n",
            "\n",
            "The famous Iris database, first used by Sir R.A. Fisher. The dataset is taken\n",
            "from Fisher's paper. Note that it's the same as in R, but not as in the UCI\n",
            "Machine Learning Repository, which has two wrong data points.\n",
            "\n",
            "This is perhaps the best known database to be found in the\n",
            "pattern recognition literature.  Fisher's paper is a classic in the field and\n",
            "is referenced frequently to this day.  (See Duda & Hart, for example.)  The\n",
            "data set contains 3 classes of 50 instances each, where each class refers to a\n",
            "type of iris plant.  One class is linearly separable from the other 2; the\n",
            "latter are NOT linearly separable from each other.\n",
            "\n",
            ".. topic:: References\n",
            "\n",
            "   - Fisher, R.A. \"The use of multiple measurements in taxonomic problems\"\n",
            "     Annual Eugenics, 7, Part II, 179-188 (1936); also in \"Contributions to\n",
            "     Mathematical Statistics\" (John Wiley, NY, 1950).\n",
            "   - Duda, R.O., & Hart, P.E. (1973) Pattern Classification and Scene Analysis.\n",
            "     (Q327.D83) John Wiley & Sons.  ISBN 0-471-22361-1.  See page 218.\n",
            "   - Dasarathy, B.V. (1980) \"Nosing Around the Neighborhood: A New System\n",
            "     Structure and Classification Rule for Recognition in Partially Exposed\n",
            "     Environments\".  IEEE Transactions on Pattern Analysis and Machine\n",
            "     Intelligence, Vol. PAMI-2, No. 1, 67-71.\n",
            "   - Gates, G.W. (1972) \"The Reduced Nearest Neighbor Rule\".  IEEE Transactions\n",
            "     on Information Theory, May 1972, 431-433.\n",
            "   - See also: 1988 MLC Proceedings, 54-64.  Cheeseman et al\"s AUTOCLASS II\n",
            "     conceptual clustering system finds 3 classes in the data.\n",
            "   - Many, many more ...\n",
            "ORIGINAL DATA:\n",
            "     sepal length (cm)  sepal width (cm)  ...  petal width (cm)  target\n",
            "0                  5.1               3.5  ...               0.2     0.0\n",
            "1                  4.9               3.0  ...               0.2     0.0\n",
            "2                  4.7               3.2  ...               0.2     0.0\n",
            "3                  4.6               3.1  ...               0.2     0.0\n",
            "4                  5.0               3.6  ...               0.2     0.0\n",
            "..                 ...               ...  ...               ...     ...\n",
            "145                6.7               3.0  ...               2.3     2.0\n",
            "146                6.3               2.5  ...               1.9     2.0\n",
            "147                6.5               3.0  ...               2.0     2.0\n",
            "148                6.2               3.4  ...               2.3     2.0\n",
            "149                5.9               3.0  ...               1.8     2.0\n",
            "\n",
            "[150 rows x 5 columns]\n",
            "       0    1    2    3\n",
            "0    5.1  3.5  1.4  0.2\n",
            "1    4.9  3.0  1.4  0.2\n",
            "2    4.7  3.2  1.3  0.2\n",
            "3    4.6  3.1  1.5  0.2\n",
            "4    5.0  3.6  1.4  0.2\n",
            "..   ...  ...  ...  ...\n",
            "145  6.7  3.0  5.2  2.3\n",
            "146  6.3  2.5  5.0  1.9\n",
            "147  6.5  3.0  5.2  2.0\n",
            "148  6.2  3.4  5.4  2.3\n",
            "149  5.9  3.0  5.1  1.8\n",
            "\n",
            "[150 rows x 4 columns]      0\n",
            "0    0\n",
            "1    0\n",
            "2    0\n",
            "3    0\n",
            "4    0\n",
            "..  ..\n",
            "145  2\n",
            "146  2\n",
            "147  2\n",
            "148  2\n",
            "149  2\n",
            "\n",
            "[150 rows x 1 columns]\n"
          ]
        }
      ]
    },
    {
      "cell_type": "code",
      "metadata": {
        "colab": {
          "base_uri": "https://localhost:8080/"
        },
        "id": "G9x3p4QHOTl-",
        "outputId": "e994ec55-a7b8-415b-cde6-d95e5f7137d7"
      },
      "source": [
        "#normalize the dataset\n",
        "for column in X.columns:\n",
        "    X[column] = (X[column] - X[column].min()) / (X[column].max() - X[column].min()) \n",
        "\n",
        "print(X)\n",
        "#One-vs-All\n",
        "df=X.copy()\n",
        "df['target']=Y\n",
        "d1=df.copy()\n",
        "print(d1)\n",
        "\n",
        "#splitting the dataset\n",
        "train = df.sample(frac=0.6)\n",
        "remaining_data = df.drop(train.index)\n",
        "\n",
        "validation = remaining_data.sample(frac=0.5)\n",
        "test = remaining_data.drop(validation.index)\n",
        "print(\"\\nTRAIN SET\")\n",
        "print(train)\n",
        "print(\"\\nVALIDATION SET\")\n",
        "print(validation)\n",
        "print(\"\\nTEST SET\")\n",
        "print(test)\n",
        "\n"
      ],
      "execution_count": null,
      "outputs": [
        {
          "output_type": "stream",
          "name": "stdout",
          "text": [
            "            0         1         2         3\n",
            "0    0.222222  0.625000  0.067797  0.041667\n",
            "1    0.166667  0.416667  0.067797  0.041667\n",
            "2    0.111111  0.500000  0.050847  0.041667\n",
            "3    0.083333  0.458333  0.084746  0.041667\n",
            "4    0.194444  0.666667  0.067797  0.041667\n",
            "..        ...       ...       ...       ...\n",
            "145  0.666667  0.416667  0.711864  0.916667\n",
            "146  0.555556  0.208333  0.677966  0.750000\n",
            "147  0.611111  0.416667  0.711864  0.791667\n",
            "148  0.527778  0.583333  0.745763  0.916667\n",
            "149  0.444444  0.416667  0.694915  0.708333\n",
            "\n",
            "[150 rows x 4 columns]\n",
            "            0         1         2         3  target\n",
            "0    0.222222  0.625000  0.067797  0.041667       0\n",
            "1    0.166667  0.416667  0.067797  0.041667       0\n",
            "2    0.111111  0.500000  0.050847  0.041667       0\n",
            "3    0.083333  0.458333  0.084746  0.041667       0\n",
            "4    0.194444  0.666667  0.067797  0.041667       0\n",
            "..        ...       ...       ...       ...     ...\n",
            "145  0.666667  0.416667  0.711864  0.916667       2\n",
            "146  0.555556  0.208333  0.677966  0.750000       2\n",
            "147  0.611111  0.416667  0.711864  0.791667       2\n",
            "148  0.527778  0.583333  0.745763  0.916667       2\n",
            "149  0.444444  0.416667  0.694915  0.708333       2\n",
            "\n",
            "[150 rows x 5 columns]\n",
            "\n",
            "TRAIN SET\n",
            "            0         1         2         3  target\n",
            "104  0.611111  0.416667  0.813559  0.875000       2\n",
            "43   0.194444  0.625000  0.101695  0.208333       0\n",
            "56   0.555556  0.541667  0.627119  0.625000       1\n",
            "2    0.111111  0.500000  0.050847  0.041667       0\n",
            "125  0.805556  0.500000  0.847458  0.708333       2\n",
            "..        ...       ...       ...       ...     ...\n",
            "105  0.916667  0.416667  0.949153  0.833333       2\n",
            "145  0.666667  0.416667  0.711864  0.916667       2\n",
            "119  0.472222  0.083333  0.677966  0.583333       2\n",
            "149  0.444444  0.416667  0.694915  0.708333       2\n",
            "4    0.194444  0.666667  0.067797  0.041667       0\n",
            "\n",
            "[90 rows x 5 columns]\n",
            "\n",
            "VALIDATION SET\n",
            "            0         1         2         3  target\n",
            "126  0.527778  0.333333  0.644068  0.708333       2\n",
            "141  0.722222  0.458333  0.694915  0.916667       2\n",
            "86   0.666667  0.458333  0.627119  0.583333       1\n",
            "137  0.583333  0.458333  0.762712  0.708333       2\n",
            "6    0.083333  0.583333  0.067797  0.083333       0\n",
            "90   0.333333  0.250000  0.576271  0.458333       1\n",
            "94   0.361111  0.291667  0.542373  0.500000       1\n",
            "61   0.444444  0.416667  0.542373  0.583333       1\n",
            "51   0.583333  0.500000  0.593220  0.583333       1\n",
            "24   0.138889  0.583333  0.152542  0.041667       0\n",
            "63   0.500000  0.375000  0.627119  0.541667       1\n",
            "0    0.222222  0.625000  0.067797  0.041667       0\n",
            "8    0.027778  0.375000  0.067797  0.041667       0\n",
            "33   0.333333  0.916667  0.067797  0.041667       0\n",
            "83   0.472222  0.291667  0.694915  0.625000       1\n",
            "34   0.166667  0.458333  0.084746  0.041667       0\n",
            "10   0.305556  0.708333  0.084746  0.041667       0\n",
            "45   0.138889  0.416667  0.067797  0.083333       0\n",
            "133  0.555556  0.333333  0.694915  0.583333       2\n",
            "146  0.555556  0.208333  0.677966  0.750000       2\n",
            "42   0.027778  0.500000  0.050847  0.041667       0\n",
            "135  0.944444  0.416667  0.864407  0.916667       2\n",
            "98   0.222222  0.208333  0.338983  0.416667       1\n",
            "138  0.472222  0.416667  0.644068  0.708333       2\n",
            "50   0.750000  0.500000  0.627119  0.541667       1\n",
            "73   0.500000  0.333333  0.627119  0.458333       1\n",
            "40   0.194444  0.625000  0.050847  0.083333       0\n",
            "143  0.694444  0.500000  0.830508  0.916667       2\n",
            "23   0.222222  0.541667  0.118644  0.166667       0\n",
            "108  0.666667  0.208333  0.813559  0.708333       2\n",
            "\n",
            "TEST SET\n",
            "            0         1         2         3  target\n",
            "3    0.083333  0.458333  0.084746  0.041667       0\n",
            "5    0.305556  0.791667  0.118644  0.125000       0\n",
            "9    0.166667  0.458333  0.084746  0.000000       0\n",
            "12   0.138889  0.416667  0.067797  0.000000       0\n",
            "14   0.416667  0.833333  0.033898  0.041667       0\n",
            "22   0.083333  0.666667  0.000000  0.041667       0\n",
            "28   0.250000  0.583333  0.067797  0.041667       0\n",
            "49   0.194444  0.541667  0.067797  0.041667       0\n",
            "55   0.388889  0.333333  0.593220  0.500000       1\n",
            "60   0.194444  0.000000  0.423729  0.375000       1\n",
            "64   0.361111  0.375000  0.440678  0.500000       1\n",
            "66   0.361111  0.416667  0.593220  0.583333       1\n",
            "67   0.416667  0.291667  0.525424  0.375000       1\n",
            "72   0.555556  0.208333  0.661017  0.583333       1\n",
            "74   0.583333  0.375000  0.559322  0.500000       1\n",
            "77   0.666667  0.416667  0.677966  0.666667       1\n",
            "78   0.472222  0.375000  0.593220  0.583333       1\n",
            "85   0.472222  0.583333  0.593220  0.625000       1\n",
            "87   0.555556  0.125000  0.576271  0.500000       1\n",
            "91   0.500000  0.416667  0.610169  0.541667       1\n",
            "92   0.416667  0.250000  0.508475  0.458333       1\n",
            "101  0.416667  0.291667  0.694915  0.750000       2\n",
            "103  0.555556  0.375000  0.779661  0.708333       2\n",
            "117  0.944444  0.750000  0.966102  0.875000       2\n",
            "122  0.944444  0.333333  0.966102  0.791667       2\n",
            "129  0.805556  0.416667  0.813559  0.625000       2\n",
            "134  0.500000  0.250000  0.779661  0.541667       2\n",
            "139  0.722222  0.458333  0.745763  0.833333       2\n",
            "144  0.666667  0.541667  0.796610  1.000000       2\n",
            "148  0.527778  0.583333  0.745763  0.916667       2\n",
            "[ 0.11889901 -0.22605661  0.00544511 -0.05237775  0.16495597]\n"
          ]
        }
      ]
    },
    {
      "cell_type": "code",
      "metadata": {
        "colab": {
          "base_uri": "https://localhost:8080/"
        },
        "id": "eGdSshBdU0sH",
        "outputId": "e2da768e-8fc0-43c2-9520-505e00a6c875"
      },
      "source": [
        "#Taking Iris-Setosa as all 1 and the rest of them as 0\n",
        "y0=train[\"target\"].copy()\n",
        "y1=validation[\"target\"].copy()\n",
        "y2=test[\"target\"].copy()\n",
        "\n",
        "train[\"target\"].replace({0.0: 1.0,1.0:0.0,2.0:0.0}, inplace=True)\n",
        "validation[\"target\"].replace({0.0: 1.0,1.0:0.0,2.0:0.0}, inplace=True)\n",
        "test[\"target\"].replace({0.0: 1.0,1.0:0.0,2.0:0.0}, inplace=True)\n",
        "\n",
        "train.drop('target',axis='columns', inplace=True)\n",
        "validation.drop('target',axis='columns', inplace=True)\n",
        "test.drop('target',axis='columns', inplace=True)\n",
        "\n",
        "train['target']=y0\n",
        "validation['target']=y1\n",
        "test['target']=y2\n",
        "\n",
        "#Training 1st Model\n",
        "w0=logistic_regression(train,0.2,0.001,10)\n",
        "print(w0)\n"
      ],
      "execution_count": null,
      "outputs": [
        {
          "output_type": "stream",
          "name": "stdout",
          "text": [
            "[-0.18024814 -0.20631026 -0.16210165 -0.27434095 -0.2538342 ]\n"
          ]
        }
      ]
    },
    {
      "cell_type": "code",
      "metadata": {
        "colab": {
          "base_uri": "https://localhost:8080/"
        },
        "id": "KvrpF359XjyD",
        "outputId": "c6a09d98-7fdc-4d32-b9aa-15726be15993"
      },
      "source": [
        "#Taking Iris-Versicolour as all 1 and the rest of them as 0\n",
        "y0=train[\"target\"].copy()\n",
        "y1=validation[\"target\"].copy()\n",
        "y2=test[\"target\"].copy()\n",
        "\n",
        "train[\"target\"].replace({0.0: 0.0,1.0:1.0,2.0:0.0}, inplace=True)\n",
        "validation[\"target\"].replace({0.0: 0.0,1.0:1.0,2.0:0.0}, inplace=True)\n",
        "test[\"target\"].replace({0.0: 0.0,1.0:1.0,2.0:0.0}, inplace=True)\n",
        "\n",
        "train.drop('target',axis='columns', inplace=True)\n",
        "validation.drop('target',axis='columns', inplace=True)\n",
        "test.drop('target',axis='columns', inplace=True)\n",
        "\n",
        "train['target']=y0\n",
        "validation['target']=y1\n",
        "test['target']=y2\n",
        "\n",
        "#Training 2nd Model\n",
        "w1=logistic_regression(train,0.2,0.001,10)\n",
        "print(w1)\n"
      ],
      "execution_count": null,
      "outputs": [
        {
          "output_type": "stream",
          "name": "stdout",
          "text": [
            "[ 0.23061187 -0.05006368 -0.21568191  0.16419461 -0.04696819]\n"
          ]
        }
      ]
    },
    {
      "cell_type": "code",
      "metadata": {
        "colab": {
          "base_uri": "https://localhost:8080/"
        },
        "id": "lrs7poFuX_Pw",
        "outputId": "fdc3a3ca-dcdf-4ff9-f52a-f5fbd176cf45"
      },
      "source": [
        "#Taking Iris-Virginica as all 1 and the rest of them as 0\n",
        "y0=train[\"target\"].copy()\n",
        "y1=validation[\"target\"].copy()\n",
        "y2=test[\"target\"].copy()\n",
        "\n",
        "train[\"target\"].replace({0.0: 0.0,1.0:0.0,2.0:1.0}, inplace=True)\n",
        "validation[\"target\"].replace({0.0: 0.0,1.0:0.0,2.0:1.0}, inplace=True)\n",
        "test[\"target\"].replace({0.0: 0.0,1.0:0.0,2.0:1.0}, inplace=True)\n",
        "\n",
        "train.drop('target',axis='columns', inplace=True)\n",
        "validation.drop('target',axis='columns', inplace=True)\n",
        "test.drop('target',axis='columns', inplace=True)\n",
        "\n",
        "train['target']=y0\n",
        "validation['target']=y1\n",
        "test['target']=y2\n",
        "\n",
        "#Training 3rd Model\n",
        "w2=logistic_regression(train,0.2,0.001,10)\n",
        "print(w2)\n"
      ],
      "execution_count": null,
      "outputs": [
        {
          "output_type": "stream",
          "name": "stdout",
          "text": [
            "[-0.04131724  0.22826164  0.26455306  0.19492535  0.15876418]\n"
          ]
        }
      ]
    },
    {
      "cell_type": "code",
      "metadata": {
        "id": "FRteonk4OWGp"
      },
      "source": [
        "def logistic_regression(dataset,learning_rate,rho,epoch):\n",
        "  \n",
        "  rows = len(dataset.axes[0])\n",
        "  cols = len(dataset.axes[1])\n",
        "  X = dataset.iloc[:, :-1]\n",
        "  Y = dataset.iloc[:, -1]\n",
        "\n",
        "  X.insert(0, \"DEFAULT\",1, True)\n",
        "  X_arr=X.to_numpy()\n",
        "  Y_arr=Y.to_numpy()\n",
        "  \n",
        " # X_arr=np.append(X_arr,0, axis=0)\n",
        "  w=[]\n",
        "  for i in range(cols):\n",
        "    w.append(random.uniform(-0.3,0.3))\n",
        "\n",
        "  w= np.array(w)  \n",
        "  J_w=0\n",
        "  J_w_in=0\n",
        "  diff_J=0\n",
        "  l=learning_rate\n",
        "  m=len(X_arr)\n",
        "  for i in range(epoch):\n",
        "    \n",
        "    h_x=1/(1+np.exp(-(np.dot(X_arr,w))))\n",
        "    for k in range(m):\n",
        "        J_w_in= J_w_in+Y_arr[k]*math.log(h_x[k])+(1-Y_arr[k])*math.log(1-h_x[k])\n",
        "    \n",
        "    J_w_in=-J_w_in/m\n",
        "\n",
        "    for j in range(len(w)):\n",
        "        for k in range(m):\n",
        "       \n",
        "            diff_J=(h_x[k]-Y_arr[k])*X_arr[k][j]\n",
        "        w[j]=w[j]-(l*diff_J)/m\n",
        "\n",
        "    \n",
        "    h_x=1/(1+np.exp(-(np.dot(X_arr,w))))   \n",
        "    for k in range(m):\n",
        "        J_w= J_w+Y_arr[k]*math.log(h_x[k])+(1-Y_arr[k])*math.log(1-h_x[k])\n",
        "\n",
        "    J_w=-J_w/m\n",
        "    #if(abs(J_w-J_w_in)>rho):\n",
        "      #break\n",
        "  return w\n",
        "\n"
      ],
      "execution_count": null,
      "outputs": []
    },
    {
      "cell_type": "code",
      "metadata": {
        "colab": {
          "base_uri": "https://localhost:8080/"
        },
        "id": "83J0nsH7OYp9",
        "outputId": "c73d0aad-0e46-4bff-8577-566e84543f1f"
      },
      "source": [
        "w=[w0,w1,w2]\n",
        "\n",
        "def predict(dataset,weights):\n",
        "  X = dataset.iloc[:, :-1]\n",
        "  Y = dataset.iloc[:, -1]\n",
        "\n",
        "  X.insert(0, \"DEFAULT\",1, True)\n",
        "  X_arr=X.to_numpy()\n",
        "  Y_arr=Y.to_numpy()\n",
        "  Y_predict=np.zeros(len(Y_arr))\n",
        "  \n",
        "  Z1= 1/(1+ np.exp(-(np.dot(X_arr,weights[0]))))\n",
        "  Z2= 1/(1+ np.exp(-(np.dot(X_arr,weights[1]))))\n",
        "  Z3= 1/(1+ np.exp(-(np.dot(X_arr,weights[2]))))\n",
        "  z=[Z1,Z2,Z3]\n",
        "  for i in range(len(Z1)):\n",
        "     m_a_x=float('-inf')\n",
        "     pred=0.0\n",
        "     for j in range(len(z)):\n",
        "        if(m_a_x<z[j][i]):\n",
        "          m_a_x=z[j][i]\n",
        "          pred=j\n",
        "        \n",
        "     Y_predict[i]=pred\n",
        "  count=0\n",
        "  for i in range(np.size(Y_predict)):\n",
        "    if (Y_predict[i]==Y_arr[i]):\n",
        "      count=count+1;\n",
        "    \n",
        "  return Y_predict,(count/np.size(Y_predict))*100\n",
        "\n",
        "print(\"Accuracy:\")\n",
        "print(predict(train,w)[1])"
      ],
      "execution_count": null,
      "outputs": [
        {
          "output_type": "stream",
          "name": "stdout",
          "text": [
            "Accuracy:\n",
            "41.11111111111111\n"
          ]
        }
      ]
    },
    {
      "cell_type": "code",
      "metadata": {
        "colab": {
          "base_uri": "https://localhost:8080/"
        },
        "id": "E1o_V56eOfxA",
        "outputId": "5e742057-99d6-4ac5-8748-7e26a068d485"
      },
      "source": [
        "#Hyperparameter Tuning\n",
        "w0=logistic_regression(validation,0.2,0.001,10)\n",
        "\n",
        "w1=logistic_regression(validation,0.2,0.001,10)\n",
        "\n",
        "w2=logistic_regression(validation,0.2,0.001,10)\n",
        "w=[w0,w1,w2]\n",
        "print(\"Accuracy: \")\n",
        "print(predict(validation,w)[1])"
      ],
      "execution_count": null,
      "outputs": [
        {
          "output_type": "stream",
          "name": "stdout",
          "text": [
            "Accuracy: \n",
            "33.33333333333333\n"
          ]
        }
      ]
    },
    {
      "cell_type": "code",
      "metadata": {
        "colab": {
          "base_uri": "https://localhost:8080/"
        },
        "id": "II8k7Hv4OiHx",
        "outputId": "79968e08-794d-4c24-87fe-2d0d698051cb"
      },
      "source": [
        "w0=logistic_regression(validation,0.2,0.001,30)\n",
        "\n",
        "w1=logistic_regression(validation,0.2,0.001,30)\n",
        "\n",
        "w2=logistic_regression(validation,0.2,0.001,30)\n",
        "w=[w0,w1,w2]\n",
        "print(\"Accuracy: \")\n",
        "print(predict(validation,w)[1])"
      ],
      "execution_count": null,
      "outputs": [
        {
          "output_type": "stream",
          "name": "stdout",
          "text": [
            "Accuracy: \n",
            "33.33333333333333\n"
          ]
        }
      ]
    },
    {
      "cell_type": "code",
      "metadata": {
        "colab": {
          "base_uri": "https://localhost:8080/"
        },
        "id": "AFutGh0XOkFG",
        "outputId": "ff49a64b-797d-4c5d-f3d0-014795f06d3b"
      },
      "source": [
        "w0=logistic_regression(validation,0.5,0.001,40)\n",
        "\n",
        "w1=logistic_regression(validation,0.5,0.001,40)\n",
        "\n",
        "w2=logistic_regression(validation,0.5,0.001,40)\n",
        "w=[w0,w1,w2]\n",
        "print(\"Accuracy: \")\n",
        "print(predict(validation,w)[1])"
      ],
      "execution_count": null,
      "outputs": [
        {
          "output_type": "stream",
          "name": "stdout",
          "text": [
            "Accuracy: \n",
            "36.666666666666664\n"
          ]
        }
      ]
    },
    {
      "cell_type": "code",
      "metadata": {
        "colab": {
          "base_uri": "https://localhost:8080/"
        },
        "id": "i0cf3yZqOnhI",
        "outputId": "a29f8c24-d48d-4896-d466-7ede8585d73e"
      },
      "source": [
        "w0=logistic_regression(validation,0.2,0.001,60)\n",
        "\n",
        "w1=logistic_regression(validation,0.2,0.001,60)\n",
        "\n",
        "w2=logistic_regression(validation,0.2,0.001,60)\n",
        "w=[w0,w1,w2]\n",
        "print(\"Accuracy: \")\n",
        "print(predict(validation,w)[1])"
      ],
      "execution_count": null,
      "outputs": [
        {
          "output_type": "stream",
          "name": "stdout",
          "text": [
            "Accuracy: \n",
            "50.0\n"
          ]
        }
      ]
    },
    {
      "cell_type": "code",
      "metadata": {
        "colab": {
          "base_uri": "https://localhost:8080/"
        },
        "id": "liLYBKD9OqXE",
        "outputId": "56d006b9-8840-4c06-b831-87a431cd633b"
      },
      "source": [
        "w0=logistic_regression(validation,0.3,0.001,70)\n",
        "\n",
        "w1=logistic_regression(validation,0.3,0.001,70)\n",
        "\n",
        "w2=logistic_regression(validation,0.3,0.001,70)\n",
        "w=[w0,w1,w2]\n",
        "print(\"Accuracy: \")\n",
        "print(predict(validation,w)[1])"
      ],
      "execution_count": null,
      "outputs": [
        {
          "output_type": "stream",
          "name": "stdout",
          "text": [
            "Accuracy: \n",
            "66.66666666666666\n"
          ]
        }
      ]
    },
    {
      "cell_type": "code",
      "metadata": {
        "colab": {
          "base_uri": "https://localhost:8080/",
          "height": 265
        },
        "id": "qZOUodbwOsM0",
        "outputId": "417f892d-faa2-4bf1-b8b3-5d1d678ac121"
      },
      "source": [
        "#checking for overfitting\n",
        "epochs=[10,20,30,40,50,60,70,80,90]\n",
        "train_acc=[]\n",
        "valid_acc=[]\n",
        "\n",
        "for i in epochs:\n",
        "    w0=logistic_regression(train1,0.3,0.001,i)\n",
        "\n",
        "    w1=logistic_regression(train2,0.3,0.001,i)\n",
        "\n",
        "    w2=logistic_regression(train3,0.3,0.001,i)\n",
        "    w=[w0,w1,w2]\n",
        "    train_acc.append(predict(train,w)[1])\n",
        "    valid_acc.append(predict(validation,w)[1])\n",
        "\n",
        "plt.plot(epochs,train_acc, label = \"Training Accuracy\")\n",
        "plt.plot(epochs,valid_acc, label = \"Validation Accuracy\")\n",
        "plt.legend()\n",
        "plt.show()  "
      ],
      "execution_count": null,
      "outputs": [
        {
          "output_type": "display_data",
          "data": {
            "image/png": "[encoded data removed]",
            "text/plain": [
              "<Figure size 432x288 with 1 Axes>"
            ]
          },
          "metadata": {
            "needs_background": "light"
          }
        }
      ]
    },
    {
      "cell_type": "code",
      "metadata": {
        "colab": {
          "base_uri": "https://localhost:8080/",
          "height": 981
        },
        "id": "E5YFIFpDOv7c",
        "outputId": "97653d59-dfbf-4d4f-88e0-f14e38d9d3b2"
      },
      "source": [
        "#classification accuracy for different percentage of training samples\n",
        "for i in range(10):\n",
        "  train = df.sample(frac=((i+1)/10))\n",
        "  test = df.drop(train.index)\n",
        "  w0=logistic_regression(train,0.3,0.001,70)\n",
        "  w1=logistic_regression(train,0.3,0.001,70)\n",
        "  w2=logistic_regression(train,0.3,0.001,70)\n",
        "  w=[w0,w1,w2]\n",
        "  pred1=predict(train,w)\n",
        "  pred2=predict(test,w)\n",
        "  print(\"Train Accuracy for \",(i+1)*10,\"percentage of training samples: \",pred1[1])\n",
        "  print(\"Test Accuracy for \",(i+1)*10,\"percentage of training samples: \",pred2[1])\n",
        "  print(\"\\n\")"
      ],
      "execution_count": null,
      "outputs": [
        {
          "output_type": "stream",
          "name": "stdout",
          "text": [
            "Train Accuracy for  10 percentage of training samples:  0.0\n",
            "Test Accuracy for  10 percentage of training samples:  7.4074074074074066\n",
            "\n",
            "\n",
            "Train Accuracy for  20 percentage of training samples:  43.333333333333336\n",
            "Test Accuracy for  20 percentage of training samples:  47.5\n",
            "\n",
            "\n",
            "Train Accuracy for  30 percentage of training samples:  26.666666666666668\n",
            "Test Accuracy for  30 percentage of training samples:  36.19047619047619\n",
            "\n",
            "\n",
            "Train Accuracy for  40 percentage of training samples:  35.0\n",
            "Test Accuracy for  40 percentage of training samples:  32.22222222222222\n",
            "\n",
            "\n",
            "Train Accuracy for  50 percentage of training samples:  30.666666666666664\n",
            "Test Accuracy for  50 percentage of training samples:  36.0\n",
            "\n",
            "\n",
            "Train Accuracy for  60 percentage of training samples:  34.44444444444444\n",
            "Test Accuracy for  60 percentage of training samples:  31.666666666666664\n",
            "\n",
            "\n",
            "Train Accuracy for  70 percentage of training samples:  38.095238095238095\n",
            "Test Accuracy for  70 percentage of training samples:  22.22222222222222\n",
            "\n",
            "\n",
            "Train Accuracy for  80 percentage of training samples:  34.166666666666664\n",
            "Test Accuracy for  80 percentage of training samples:  30.0\n",
            "\n",
            "\n",
            "Train Accuracy for  90 percentage of training samples:  33.33333333333333\n",
            "Test Accuracy for  90 percentage of training samples:  33.33333333333333\n",
            "\n",
            "\n"
          ]
        },
        {
          "output_type": "error",
          "ename": "ZeroDivisionError",
          "evalue": "ignored",
          "traceback": [
            "\u001b[0;31m---------------------------------------------------------------------------\u001b[0m",
            "\u001b[0;31mZeroDivisionError\u001b[0m                         Traceback (most recent call last)",
            "\u001b[0;32m<ipython-input-61-c5fc0145f8ed>\u001b[0m in \u001b[0;36m<module>\u001b[0;34m()\u001b[0m\n\u001b[1;32m      8\u001b[0m   \u001b[0mw\u001b[0m\u001b[0;34m=\u001b[0m\u001b[0;34m[\u001b[0m\u001b[0mw0\u001b[0m\u001b[0;34m,\u001b[0m\u001b[0mw1\u001b[0m\u001b[0;34m,\u001b[0m\u001b[0mw2\u001b[0m\u001b[0;34m]\u001b[0m\u001b[0;34m\u001b[0m\u001b[0;34m\u001b[0m\u001b[0m\n\u001b[1;32m      9\u001b[0m   \u001b[0mpred1\u001b[0m\u001b[0;34m=\u001b[0m\u001b[0mpredict\u001b[0m\u001b[0;34m(\u001b[0m\u001b[0mtrain\u001b[0m\u001b[0;34m,\u001b[0m\u001b[0mw\u001b[0m\u001b[0;34m)\u001b[0m\u001b[0;34m\u001b[0m\u001b[0;34m\u001b[0m\u001b[0m\n\u001b[0;32m---> 10\u001b[0;31m   \u001b[0mpred2\u001b[0m\u001b[0;34m=\u001b[0m\u001b[0mpredict\u001b[0m\u001b[0;34m(\u001b[0m\u001b[0mtest\u001b[0m\u001b[0;34m,\u001b[0m\u001b[0mw\u001b[0m\u001b[0;34m)\u001b[0m\u001b[0;34m\u001b[0m\u001b[0;34m\u001b[0m\u001b[0m\n\u001b[0m\u001b[1;32m     11\u001b[0m   \u001b[0mprint\u001b[0m\u001b[0;34m(\u001b[0m\u001b[0;34m\"Train Accuracy for \"\u001b[0m\u001b[0;34m,\u001b[0m\u001b[0;34m(\u001b[0m\u001b[0mi\u001b[0m\u001b[0;34m+\u001b[0m\u001b[0;36m1\u001b[0m\u001b[0;34m)\u001b[0m\u001b[0;34m*\u001b[0m\u001b[0;36m10\u001b[0m\u001b[0;34m,\u001b[0m\u001b[0;34m\"percentage of training samples: \"\u001b[0m\u001b[0;34m,\u001b[0m\u001b[0mpred1\u001b[0m\u001b[0;34m[\u001b[0m\u001b[0;36m1\u001b[0m\u001b[0;34m]\u001b[0m\u001b[0;34m)\u001b[0m\u001b[0;34m\u001b[0m\u001b[0;34m\u001b[0m\u001b[0m\n\u001b[1;32m     12\u001b[0m   \u001b[0mprint\u001b[0m\u001b[0;34m(\u001b[0m\u001b[0;34m\"Test Accuracy for \"\u001b[0m\u001b[0;34m,\u001b[0m\u001b[0;34m(\u001b[0m\u001b[0mi\u001b[0m\u001b[0;34m+\u001b[0m\u001b[0;36m1\u001b[0m\u001b[0;34m)\u001b[0m\u001b[0;34m*\u001b[0m\u001b[0;36m10\u001b[0m\u001b[0;34m,\u001b[0m\u001b[0;34m\"percentage of training samples: \"\u001b[0m\u001b[0;34m,\u001b[0m\u001b[0mpred2\u001b[0m\u001b[0;34m[\u001b[0m\u001b[0;36m1\u001b[0m\u001b[0;34m]\u001b[0m\u001b[0;34m)\u001b[0m\u001b[0;34m\u001b[0m\u001b[0;34m\u001b[0m\u001b[0m\n",
            "\u001b[0;32m<ipython-input-35-0ba8fb94bed5>\u001b[0m in \u001b[0;36mpredict\u001b[0;34m(dataset, weights)\u001b[0m\n\u001b[1;32m     28\u001b[0m       \u001b[0mcount\u001b[0m\u001b[0;34m=\u001b[0m\u001b[0mcount\u001b[0m\u001b[0;34m+\u001b[0m\u001b[0;36m1\u001b[0m\u001b[0;34m;\u001b[0m\u001b[0;34m\u001b[0m\u001b[0;34m\u001b[0m\u001b[0m\n\u001b[1;32m     29\u001b[0m \u001b[0;34m\u001b[0m\u001b[0m\n\u001b[0;32m---> 30\u001b[0;31m   \u001b[0;32mreturn\u001b[0m \u001b[0mY_predict\u001b[0m\u001b[0;34m,\u001b[0m\u001b[0;34m(\u001b[0m\u001b[0mcount\u001b[0m\u001b[0;34m/\u001b[0m\u001b[0mnp\u001b[0m\u001b[0;34m.\u001b[0m\u001b[0msize\u001b[0m\u001b[0;34m(\u001b[0m\u001b[0mY_predict\u001b[0m\u001b[0;34m)\u001b[0m\u001b[0;34m)\u001b[0m\u001b[0;34m*\u001b[0m\u001b[0;36m100\u001b[0m\u001b[0;34m\u001b[0m\u001b[0;34m\u001b[0m\u001b[0m\n\u001b[0m\u001b[1;32m     31\u001b[0m \u001b[0;34m\u001b[0m\u001b[0m\n\u001b[1;32m     32\u001b[0m \u001b[0mprint\u001b[0m\u001b[0;34m(\u001b[0m\u001b[0;34m\"Accuracy:\"\u001b[0m\u001b[0;34m)\u001b[0m\u001b[0;34m\u001b[0m\u001b[0;34m\u001b[0m\u001b[0m\n",
            "\u001b[0;31mZeroDivisionError\u001b[0m: division by zero"
          ]
        }
      ]
    }
  ]
}