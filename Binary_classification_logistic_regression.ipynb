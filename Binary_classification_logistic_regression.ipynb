{
  "nbformat": 4,
  "nbformat_minor": 0,
  "metadata": {
    "colab": {
      "name": "Binary_classification_logistic_regression.ipynb",
      "provenance": [],
      "collapsed_sections": [],
      "authorship_tag": "ABX9TyNppF/E3MJ9R2U6GG3DxQpg",
      "include_colab_link": true
    },
    "kernelspec": {
      "name": "python3",
      "display_name": "Python 3"
    },
    "language_info": {
      "name": "python"
    }
  },
  "cells": [
    {
      "cell_type": "markdown",
      "metadata": {
        "id": "view-in-github",
        "colab_type": "text"
      },
      "source": [
        "<a href=\"https://colab.research.google.com/github/anu-shree-anil/Machine-learning-Algorithms/blob/main/Binary_classification_logistic_regression.ipynb\" target=\"_parent\"><img src=\"https://colab.research.google.com/assets/colab-badge.svg\" alt=\"Open In Colab\"/></a>"
      ]
    },
    {
      "cell_type": "code",
      "metadata": {
        "id": "KTemmQUZxM-e",
        "colab": {
          "base_uri": "https://localhost:8080/"
        },
        "outputId": "85e377ba-bf07-4728-fc90-af4d48ae8257"
      },
      "source": [
        "import pandas as pd\n",
        "import numpy as np\n",
        "from sklearn import datasets\n",
        "from sklearn.model_selection import train_test_split\n",
        "import matplotlib.pyplot as plt\n",
        "import random\n",
        "import math\n",
        "\n",
        "#loading and preprocessing the data\n",
        "iris=datasets.load_iris()\n",
        "df=pd.DataFrame(data=np.c_[iris['data'],iris['target']],columns=iris['feature_names']+['target'])\n",
        "print(\"ORIGINAL DATA:\")\n",
        "print(df)\n",
        "df=df[df.target!=2.0]\n",
        "print(\"PREPROCESSED DATA:\")\n",
        "print(df)"
      ],
      "execution_count": 1,
      "outputs": [
        {
          "output_type": "stream",
          "name": "stdout",
          "text": [
            "ORIGINAL DATA:\n",
            "     sepal length (cm)  sepal width (cm)  ...  petal width (cm)  target\n",
            "0                  5.1               3.5  ...               0.2     0.0\n",
            "1                  4.9               3.0  ...               0.2     0.0\n",
            "2                  4.7               3.2  ...               0.2     0.0\n",
            "3                  4.6               3.1  ...               0.2     0.0\n",
            "4                  5.0               3.6  ...               0.2     0.0\n",
            "..                 ...               ...  ...               ...     ...\n",
            "145                6.7               3.0  ...               2.3     2.0\n",
            "146                6.3               2.5  ...               1.9     2.0\n",
            "147                6.5               3.0  ...               2.0     2.0\n",
            "148                6.2               3.4  ...               2.3     2.0\n",
            "149                5.9               3.0  ...               1.8     2.0\n",
            "\n",
            "[150 rows x 5 columns]\n",
            "PREPROCESSED DATA:\n",
            "    sepal length (cm)  sepal width (cm)  ...  petal width (cm)  target\n",
            "0                 5.1               3.5  ...               0.2     0.0\n",
            "1                 4.9               3.0  ...               0.2     0.0\n",
            "2                 4.7               3.2  ...               0.2     0.0\n",
            "3                 4.6               3.1  ...               0.2     0.0\n",
            "4                 5.0               3.6  ...               0.2     0.0\n",
            "..                ...               ...  ...               ...     ...\n",
            "95                5.7               3.0  ...               1.2     1.0\n",
            "96                5.7               2.9  ...               1.3     1.0\n",
            "97                6.2               2.9  ...               1.3     1.0\n",
            "98                5.1               2.5  ...               1.1     1.0\n",
            "99                5.7               2.8  ...               1.3     1.0\n",
            "\n",
            "[100 rows x 5 columns]\n"
          ]
        }
      ]
    },
    {
      "cell_type": "code",
      "metadata": {
        "colab": {
          "base_uri": "https://localhost:8080/"
        },
        "id": "yX_yIvAU3RJZ",
        "outputId": "f3db45db-a995-435b-ee62-ce9a11eeaf5b"
      },
      "source": [
        "#normalize the dataset\n",
        "for column in df.columns:\n",
        "    df[column] = (df[column] - df[column].min()) / (df[column].max() - df[column].min()) \n",
        "\n",
        "#splitting the dataset\n",
        "train = df.sample(frac=0.6)\n",
        "remaining_data = df.drop(train.index)\n",
        "\n",
        "validation = remaining_data.sample(frac=0.5)\n",
        "test = remaining_data.drop(validation.index)\n",
        "\n",
        "\n",
        "print(\"\\nTRAIN SET\")\n",
        "print(train)\n",
        "print(\"\\nVALIDATION SET\")\n",
        "print(validation)\n",
        "print(\"\\nTEST SET\")\n",
        "print(test)\n"
      ],
      "execution_count": 2,
      "outputs": [
        {
          "output_type": "stream",
          "name": "stdout",
          "text": [
            "\n",
            "TRAIN SET\n",
            "    sepal length (cm)  sepal width (cm)  ...  petal width (cm)  target\n",
            "20           0.407407          0.583333  ...          0.058824     0.0\n",
            "2            0.148148          0.500000  ...          0.058824     0.0\n",
            "98           0.296296          0.208333  ...          0.588235     1.0\n",
            "94           0.481481          0.291667  ...          0.705882     1.0\n",
            "0            0.296296          0.625000  ...          0.058824     0.0\n",
            "54           0.814815          0.333333  ...          0.823529     1.0\n",
            "9            0.222222          0.458333  ...          0.000000     0.0\n",
            "76           0.925926          0.333333  ...          0.764706     1.0\n",
            "69           0.481481          0.208333  ...          0.588235     1.0\n",
            "92           0.555556          0.250000  ...          0.647059     1.0\n",
            "17           0.296296          0.625000  ...          0.117647     0.0\n",
            "56           0.740741          0.541667  ...          0.882353     1.0\n",
            "71           0.666667          0.333333  ...          0.705882     1.0\n",
            "86           0.888889          0.458333  ...          0.823529     1.0\n",
            "46           0.296296          0.750000  ...          0.058824     0.0\n",
            "33           0.444444          0.916667  ...          0.058824     0.0\n",
            "42           0.037037          0.500000  ...          0.058824     0.0\n",
            "43           0.259259          0.625000  ...          0.294118     0.0\n",
            "91           0.666667          0.416667  ...          0.764706     1.0\n",
            "82           0.555556          0.291667  ...          0.647059     1.0\n",
            "51           0.777778          0.500000  ...          0.823529     1.0\n",
            "89           0.444444          0.208333  ...          0.705882     1.0\n",
            "3            0.111111          0.458333  ...          0.058824     0.0\n",
            "28           0.333333          0.583333  ...          0.058824     0.0\n",
            "32           0.333333          0.875000  ...          0.000000     0.0\n",
            "55           0.518519          0.333333  ...          0.705882     1.0\n",
            "57           0.222222          0.166667  ...          0.529412     1.0\n",
            "22           0.111111          0.666667  ...          0.058824     0.0\n",
            "30           0.185185          0.458333  ...          0.058824     0.0\n",
            "50           1.000000          0.500000  ...          0.764706     1.0\n",
            "24           0.185185          0.583333  ...          0.058824     0.0\n",
            "6            0.111111          0.583333  ...          0.117647     0.0\n",
            "93           0.259259          0.125000  ...          0.529412     1.0\n",
            "73           0.666667          0.333333  ...          0.647059     1.0\n",
            "52           0.962963          0.458333  ...          0.823529     1.0\n",
            "39           0.296296          0.583333  ...          0.058824     0.0\n",
            "75           0.851852          0.416667  ...          0.764706     1.0\n",
            "11           0.185185          0.583333  ...          0.058824     0.0\n",
            "49           0.259259          0.541667  ...          0.058824     0.0\n",
            "90           0.444444          0.250000  ...          0.647059     1.0\n",
            "53           0.444444          0.125000  ...          0.705882     1.0\n",
            "48           0.370370          0.708333  ...          0.058824     0.0\n",
            "4            0.259259          0.666667  ...          0.058824     0.0\n",
            "64           0.481481          0.375000  ...          0.705882     1.0\n",
            "59           0.333333          0.291667  ...          0.764706     1.0\n",
            "19           0.296296          0.750000  ...          0.117647     0.0\n",
            "37           0.222222          0.666667  ...          0.000000     0.0\n",
            "8            0.037037          0.375000  ...          0.058824     0.0\n",
            "1            0.222222          0.416667  ...          0.058824     0.0\n",
            "31           0.407407          0.583333  ...          0.176471     0.0\n",
            "87           0.740741          0.125000  ...          0.705882     1.0\n",
            "47           0.111111          0.500000  ...          0.058824     0.0\n",
            "85           0.629630          0.583333  ...          0.882353     1.0\n",
            "15           0.518519          1.000000  ...          0.176471     0.0\n",
            "7            0.259259          0.583333  ...          0.058824     0.0\n",
            "77           0.888889          0.416667  ...          0.941176     1.0\n",
            "96           0.518519          0.375000  ...          0.705882     1.0\n",
            "72           0.740741          0.208333  ...          0.823529     1.0\n",
            "65           0.888889          0.458333  ...          0.764706     1.0\n",
            "23           0.296296          0.541667  ...          0.235294     0.0\n",
            "\n",
            "[60 rows x 5 columns]\n",
            "\n",
            "VALIDATION SET\n",
            "    sepal length (cm)  sepal width (cm)  ...  petal width (cm)  target\n",
            "38           0.037037          0.416667  ...          0.058824     0.0\n",
            "21           0.296296          0.708333  ...          0.176471     0.0\n",
            "62           0.629630          0.083333  ...          0.529412     1.0\n",
            "81           0.444444          0.166667  ...          0.529412     1.0\n",
            "5            0.407407          0.791667  ...          0.176471     0.0\n",
            "29           0.148148          0.500000  ...          0.058824     0.0\n",
            "95           0.518519          0.416667  ...          0.647059     1.0\n",
            "25           0.259259          0.416667  ...          0.058824     0.0\n",
            "78           0.629630          0.375000  ...          0.823529     1.0\n",
            "10           0.407407          0.708333  ...          0.058824     0.0\n",
            "83           0.629630          0.291667  ...          0.882353     1.0\n",
            "70           0.592593          0.500000  ...          1.000000     1.0\n",
            "88           0.481481          0.416667  ...          0.705882     1.0\n",
            "84           0.407407          0.416667  ...          0.823529     1.0\n",
            "40           0.259259          0.625000  ...          0.117647     0.0\n",
            "99           0.518519          0.333333  ...          0.705882     1.0\n",
            "58           0.851852          0.375000  ...          0.705882     1.0\n",
            "97           0.703704          0.375000  ...          0.705882     1.0\n",
            "80           0.444444          0.166667  ...          0.588235     1.0\n",
            "68           0.703704          0.083333  ...          0.823529     1.0\n",
            "\n",
            "[20 rows x 5 columns]\n",
            "\n",
            "TEST SET\n",
            "    sepal length (cm)  sepal width (cm)  ...  petal width (cm)  target\n",
            "12           0.185185          0.416667  ...          0.000000     0.0\n",
            "13           0.000000          0.416667  ...          0.000000     0.0\n",
            "14           0.555556          0.833333  ...          0.058824     0.0\n",
            "16           0.407407          0.791667  ...          0.176471     0.0\n",
            "18           0.518519          0.750000  ...          0.117647     0.0\n",
            "26           0.259259          0.583333  ...          0.176471     0.0\n",
            "27           0.333333          0.625000  ...          0.058824     0.0\n",
            "34           0.222222          0.458333  ...          0.058824     0.0\n",
            "35           0.259259          0.500000  ...          0.058824     0.0\n",
            "36           0.444444          0.625000  ...          0.058824     0.0\n",
            "41           0.074074          0.125000  ...          0.117647     0.0\n",
            "44           0.296296          0.750000  ...          0.176471     0.0\n",
            "45           0.185185          0.416667  ...          0.117647     0.0\n",
            "60           0.259259          0.000000  ...          0.529412     1.0\n",
            "61           0.592593          0.416667  ...          0.823529     1.0\n",
            "63           0.666667          0.375000  ...          0.764706     1.0\n",
            "66           0.481481          0.416667  ...          0.823529     1.0\n",
            "67           0.555556          0.291667  ...          0.529412     1.0\n",
            "74           0.777778          0.375000  ...          0.705882     1.0\n",
            "79           0.518519          0.250000  ...          0.529412     1.0\n",
            "\n",
            "[20 rows x 5 columns]\n"
          ]
        }
      ]
    },
    {
      "cell_type": "code",
      "metadata": {
        "colab": {
          "base_uri": "https://localhost:8080/"
        },
        "id": "vu_0MzPeVQNd",
        "outputId": "7cf27485-c82f-437c-d3ab-7418684217f6"
      },
      "source": [
        "def logistic_regression(dataset,learning_rate,rho,epoch):\n",
        "  \n",
        "  rows = len(dataset.axes[0])\n",
        "  cols = len(dataset.axes[1])\n",
        "  X = dataset.iloc[:, :-1]\n",
        "  Y = dataset.iloc[:, -1]\n",
        "\n",
        "  X.insert(0, \"DEFAULT\",1, True)\n",
        "  X_arr=X.to_numpy()\n",
        "  Y_arr=Y.to_numpy()\n",
        "  \n",
        " # X_arr=np.append(X_arr,0, axis=0)\n",
        "  w=[]\n",
        "  for i in range(cols):\n",
        "    w.append(0.3)\n",
        "\n",
        "  w= np.array(w)  \n",
        "  J_w=0\n",
        "  J_w_in=0\n",
        "  diff_J=0\n",
        "  l=learning_rate\n",
        "  m=len(X_arr)\n",
        "  for i in range(epoch):\n",
        "    \n",
        "    h_x=1/(1+np.exp(-(np.dot(X_arr,w))))\n",
        "    for k in range(m):\n",
        "        J_w_in= J_w_in+Y_arr[k]*math.log(h_x[k])+(1-Y_arr[k])*math.log(1-h_x[k])\n",
        "    \n",
        "    J_w_in=-J_w_in/m\n",
        "    weight=[]\n",
        "\n",
        "    for j in range(len(w)):\n",
        "        for k in range(m):\n",
        "       \n",
        "            diff_J=(h_x[k]-Y_arr[k])*X_arr[k][j]\n",
        "        w[j]=w[j]-(l*diff_J)/m\n",
        "\n",
        "    h_x=1/(1+np.exp(-(np.dot(X_arr,w))))   \n",
        "    for k in range(m):\n",
        "        J_w= J_w+Y_arr[k]*math.log(h_x[k])+(1-Y_arr[k])*math.log(1-h_x[k])\n",
        "\n",
        "    J_w=-J_w/m\n",
        "    #if(abs(J_w-J_w_in)>rho):\n",
        "      #break\n",
        "  return w\n",
        "\n",
        "\n",
        "def predict(dataset,weights):\n",
        "  X = dataset.iloc[:, :-1]\n",
        "  Y = dataset.iloc[:, -1]\n",
        "\n",
        "  X.insert(0, \"DEFAULT\",1, True)\n",
        "  X_arr=X.to_numpy()\n",
        "  Y_arr=Y.to_numpy()\n",
        "  \n",
        "  Z= 1/(1+ np.exp(-(np.dot(X_arr,weights))))\n",
        "  Y_predict=np.where(Z>0.5,1,0)\n",
        "  count=0\n",
        "  for i in range(np.size(Y_predict)):\n",
        "    if (Y_predict[i]==Y_arr[i]):\n",
        "      count=count+1;\n",
        "    \n",
        "  return Y_predict,(count/np.size(Y_predict))*100\n",
        "\n",
        "w=logistic_regression(train,0.3,0.001,50)\n",
        "pred=predict(train,w)\n",
        "print(\"Weight:\")\n",
        "print(w)\n",
        "print(\"Accuracy: \",pred[1])"
      ],
      "execution_count": 3,
      "outputs": [
        {
          "output_type": "stream",
          "name": "stdout",
          "text": [
            "Weight:\n",
            "[0.1410724  0.25291034 0.21391422 0.27286602 0.26260527]\n",
            "Accuracy:  50.0\n"
          ]
        }
      ]
    },
    {
      "cell_type": "code",
      "metadata": {
        "colab": {
          "base_uri": "https://localhost:8080/"
        },
        "id": "yDpDpgH2Y2iq",
        "outputId": "97635b35-f3b6-49c4-e150-90b3240b514a"
      },
      "source": [
        "#Hyperparameter tuning\n",
        "w=logistic_regression(validation,0.1,0.001,50)\n",
        "pred=predict(validation,w)\n",
        "print(\"Accuracy: \",pred[1])"
      ],
      "execution_count": 12,
      "outputs": [
        {
          "output_type": "stream",
          "name": "stdout",
          "text": [
            "Accuracy:  65.0\n"
          ]
        }
      ]
    },
    {
      "cell_type": "code",
      "metadata": {
        "colab": {
          "base_uri": "https://localhost:8080/"
        },
        "id": "W_9COt3F8sNV",
        "outputId": "bf057900-b8a8-43f4-9205-9fcfc6f049a5"
      },
      "source": [
        "w=logistic_regression(validation,0.5,0.001,10)\n",
        "pred=predict(validation,w)\n",
        "print(\"Accuracy: \",pred[1])"
      ],
      "execution_count": 5,
      "outputs": [
        {
          "output_type": "stream",
          "name": "stdout",
          "text": [
            "Accuracy:  65.0\n"
          ]
        }
      ]
    },
    {
      "cell_type": "code",
      "metadata": {
        "colab": {
          "base_uri": "https://localhost:8080/"
        },
        "id": "6ti2s-xK8-no",
        "outputId": "5e619be2-b708-41fc-d422-9ea5e773b302"
      },
      "source": [
        "w=logistic_regression(validation,0.1,0.001,2)\n",
        "pred=predict(validation,w)\n",
        "print(\"Accuracy: \",pred[1])"
      ],
      "execution_count": 6,
      "outputs": [
        {
          "output_type": "stream",
          "name": "stdout",
          "text": [
            "Accuracy:  65.0\n"
          ]
        }
      ]
    },
    {
      "cell_type": "code",
      "metadata": {
        "colab": {
          "base_uri": "https://localhost:8080/"
        },
        "id": "6WMtV4_hBbvF",
        "outputId": "c46324b9-f1ad-4057-c24e-0732c14b5b81"
      },
      "source": [
        "w=logistic_regression(validation,0.2,0.001,5)\n",
        "pred=predict(validation,w)\n",
        "print(\"Accuracy: \",pred[1])"
      ],
      "execution_count": 7,
      "outputs": [
        {
          "output_type": "stream",
          "name": "stdout",
          "text": [
            "Accuracy:  65.0\n"
          ]
        }
      ]
    },
    {
      "cell_type": "code",
      "metadata": {
        "colab": {
          "base_uri": "https://localhost:8080/",
          "height": 265
        },
        "id": "Sgb-LPPSBl3c",
        "outputId": "26425be0-db25-4461-fab6-830efbca500c"
      },
      "source": [
        "#checking for overfitting\n",
        "epochs=[1,2,3,4,5,6,7,8,9]\n",
        "train_acc=[]\n",
        "valid_acc=[]\n",
        "\n",
        "for i in epochs:\n",
        "    w=logistic_regression(train,0.1,0.001,i)\n",
        "    train_acc.append((predict(train,w)[1]))\n",
        "    valid_acc.append((predict(validation,w)[1]))\n",
        "\n",
        "plt.plot(epochs,train_acc, label = \"Training Accuracy\")\n",
        "plt.plot(epochs,valid_acc, label = \"Validation Accuracy\")\n",
        "plt.legend()\n",
        "plt.show()  "
      ],
      "execution_count": 16,
      "outputs": [
        {
          "output_type": "display_data",
          "data": {
            "image/png": "[encoded data removed]",
            "text/plain": [
              "<Figure size 432x288 with 1 Axes>"
            ]
          },
          "metadata": {
            "needs_background": "light"
          }
        }
      ]
    },
    {
      "cell_type": "code",
      "metadata": {
        "colab": {
          "base_uri": "https://localhost:8080/",
          "height": 951
        },
        "id": "2wgOz85ZLU3o",
        "outputId": "2004013a-4a39-408d-fc4e-c59b3bd7ccd1"
      },
      "source": [
        "#classification accuracy for different percentage of training samples\n",
        "for i in range(10):\n",
        "  train = df.sample(frac=((i+1)/10))\n",
        "  test = df.drop(train.index)\n",
        "  w=logistic_regression(train,0.2,0.001,5)\n",
        "  pred1=predict(train,w)\n",
        "  pred2=predict(test,w)\n",
        "  print(\"Train Accuracy for \",(i+1)*10,\"percentage of training samples: \",pred1[1])\n",
        "  print(\"Test Accuracy for \",(i+1)*10,\"percentage of training samples: \",pred2[1])\n",
        "  print(\"\\n\")"
      ],
      "execution_count": 11,
      "outputs": [
        {
          "output_type": "stream",
          "name": "stdout",
          "text": [
            "Train Accuracy for  10 percentage of training samples:  50.0\n",
            "Test Accuracy for  10 percentage of training samples:  50.0\n",
            "\n",
            "\n",
            "Train Accuracy for  20 percentage of training samples:  30.0\n",
            "Test Accuracy for  20 percentage of training samples:  55.00000000000001\n",
            "\n",
            "\n",
            "Train Accuracy for  30 percentage of training samples:  53.333333333333336\n",
            "Test Accuracy for  30 percentage of training samples:  48.57142857142857\n",
            "\n",
            "\n",
            "Train Accuracy for  40 percentage of training samples:  50.0\n",
            "Test Accuracy for  40 percentage of training samples:  50.0\n",
            "\n",
            "\n",
            "Train Accuracy for  50 percentage of training samples:  44.0\n",
            "Test Accuracy for  50 percentage of training samples:  56.00000000000001\n",
            "\n",
            "\n",
            "Train Accuracy for  60 percentage of training samples:  48.333333333333336\n",
            "Test Accuracy for  60 percentage of training samples:  52.5\n",
            "\n",
            "\n",
            "Train Accuracy for  70 percentage of training samples:  50.0\n",
            "Test Accuracy for  70 percentage of training samples:  50.0\n",
            "\n",
            "\n",
            "Train Accuracy for  80 percentage of training samples:  52.5\n",
            "Test Accuracy for  80 percentage of training samples:  40.0\n",
            "\n",
            "\n",
            "Train Accuracy for  90 percentage of training samples:  52.22222222222223\n",
            "Test Accuracy for  90 percentage of training samples:  30.0\n",
            "\n",
            "\n"
          ]
        },
        {
          "output_type": "error",
          "ename": "ZeroDivisionError",
          "evalue": "ignored",
          "traceback": [
            "\u001b[0;31m---------------------------------------------------------------------------\u001b[0m",
            "\u001b[0;31mZeroDivisionError\u001b[0m                         Traceback (most recent call last)",
            "\u001b[0;32m<ipython-input-11-e77059b4fc7b>\u001b[0m in \u001b[0;36m<module>\u001b[0;34m()\u001b[0m\n\u001b[1;32m      5\u001b[0m   \u001b[0mw\u001b[0m\u001b[0;34m=\u001b[0m\u001b[0mlogistic_regression\u001b[0m\u001b[0;34m(\u001b[0m\u001b[0mtrain\u001b[0m\u001b[0;34m,\u001b[0m\u001b[0;36m0.2\u001b[0m\u001b[0;34m,\u001b[0m\u001b[0;36m0.001\u001b[0m\u001b[0;34m,\u001b[0m\u001b[0;36m5\u001b[0m\u001b[0;34m)\u001b[0m\u001b[0;34m\u001b[0m\u001b[0;34m\u001b[0m\u001b[0m\n\u001b[1;32m      6\u001b[0m   \u001b[0mpred1\u001b[0m\u001b[0;34m=\u001b[0m\u001b[0mpredict\u001b[0m\u001b[0;34m(\u001b[0m\u001b[0mtrain\u001b[0m\u001b[0;34m,\u001b[0m\u001b[0mw\u001b[0m\u001b[0;34m)\u001b[0m\u001b[0;34m\u001b[0m\u001b[0;34m\u001b[0m\u001b[0m\n\u001b[0;32m----> 7\u001b[0;31m   \u001b[0mpred2\u001b[0m\u001b[0;34m=\u001b[0m\u001b[0mpredict\u001b[0m\u001b[0;34m(\u001b[0m\u001b[0mtest\u001b[0m\u001b[0;34m,\u001b[0m\u001b[0mw\u001b[0m\u001b[0;34m)\u001b[0m\u001b[0;34m\u001b[0m\u001b[0;34m\u001b[0m\u001b[0m\n\u001b[0m\u001b[1;32m      8\u001b[0m   \u001b[0mprint\u001b[0m\u001b[0;34m(\u001b[0m\u001b[0;34m\"Train Accuracy for \"\u001b[0m\u001b[0;34m,\u001b[0m\u001b[0;34m(\u001b[0m\u001b[0mi\u001b[0m\u001b[0;34m+\u001b[0m\u001b[0;36m1\u001b[0m\u001b[0;34m)\u001b[0m\u001b[0;34m*\u001b[0m\u001b[0;36m10\u001b[0m\u001b[0;34m,\u001b[0m\u001b[0;34m\"percentage of training samples: \"\u001b[0m\u001b[0;34m,\u001b[0m\u001b[0mpred1\u001b[0m\u001b[0;34m[\u001b[0m\u001b[0;36m1\u001b[0m\u001b[0;34m]\u001b[0m\u001b[0;34m)\u001b[0m\u001b[0;34m\u001b[0m\u001b[0;34m\u001b[0m\u001b[0m\n\u001b[1;32m      9\u001b[0m   \u001b[0mprint\u001b[0m\u001b[0;34m(\u001b[0m\u001b[0;34m\"Test Accuracy for \"\u001b[0m\u001b[0;34m,\u001b[0m\u001b[0;34m(\u001b[0m\u001b[0mi\u001b[0m\u001b[0;34m+\u001b[0m\u001b[0;36m1\u001b[0m\u001b[0;34m)\u001b[0m\u001b[0;34m*\u001b[0m\u001b[0;36m10\u001b[0m\u001b[0;34m,\u001b[0m\u001b[0;34m\"percentage of training samples: \"\u001b[0m\u001b[0;34m,\u001b[0m\u001b[0mpred2\u001b[0m\u001b[0;34m[\u001b[0m\u001b[0;36m1\u001b[0m\u001b[0;34m]\u001b[0m\u001b[0;34m)\u001b[0m\u001b[0;34m\u001b[0m\u001b[0;34m\u001b[0m\u001b[0m\n",
            "\u001b[0;32m<ipython-input-3-57b1fc119382>\u001b[0m in \u001b[0;36mpredict\u001b[0;34m(dataset, weights)\u001b[0m\n\u001b[1;32m     61\u001b[0m       \u001b[0mcount\u001b[0m\u001b[0;34m=\u001b[0m\u001b[0mcount\u001b[0m\u001b[0;34m+\u001b[0m\u001b[0;36m1\u001b[0m\u001b[0;34m;\u001b[0m\u001b[0;34m\u001b[0m\u001b[0;34m\u001b[0m\u001b[0m\n\u001b[1;32m     62\u001b[0m \u001b[0;34m\u001b[0m\u001b[0m\n\u001b[0;32m---> 63\u001b[0;31m   \u001b[0;32mreturn\u001b[0m \u001b[0mY_predict\u001b[0m\u001b[0;34m,\u001b[0m\u001b[0;34m(\u001b[0m\u001b[0mcount\u001b[0m\u001b[0;34m/\u001b[0m\u001b[0mnp\u001b[0m\u001b[0;34m.\u001b[0m\u001b[0msize\u001b[0m\u001b[0;34m(\u001b[0m\u001b[0mY_predict\u001b[0m\u001b[0;34m)\u001b[0m\u001b[0;34m)\u001b[0m\u001b[0;34m*\u001b[0m\u001b[0;36m100\u001b[0m\u001b[0;34m\u001b[0m\u001b[0;34m\u001b[0m\u001b[0m\n\u001b[0m\u001b[1;32m     64\u001b[0m \u001b[0;34m\u001b[0m\u001b[0m\n\u001b[1;32m     65\u001b[0m \u001b[0mw\u001b[0m\u001b[0;34m=\u001b[0m\u001b[0mlogistic_regression\u001b[0m\u001b[0;34m(\u001b[0m\u001b[0mtrain\u001b[0m\u001b[0;34m,\u001b[0m\u001b[0;36m0.3\u001b[0m\u001b[0;34m,\u001b[0m\u001b[0;36m0.001\u001b[0m\u001b[0;34m,\u001b[0m\u001b[0;36m50\u001b[0m\u001b[0;34m)\u001b[0m\u001b[0;34m\u001b[0m\u001b[0;34m\u001b[0m\u001b[0m\n",
            "\u001b[0;31mZeroDivisionError\u001b[0m: division by zero"
          ]
        }
      ]
    }
  ]
}