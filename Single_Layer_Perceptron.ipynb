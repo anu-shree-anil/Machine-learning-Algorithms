{
  "nbformat": 4,
  "nbformat_minor": 0,
  "metadata": {
    "colab": {
      "name": "Single Layer Perceptron.ipynb",
      "provenance": [],
      "collapsed_sections": [],
      "authorship_tag": "ABX9TyNPocUQN4Vrj6tekoKPCETa",
      "include_colab_link": true
    },
    "kernelspec": {
      "name": "python3",
      "display_name": "Python 3"
    },
    "language_info": {
      "name": "python"
    }
  },
  "cells": [
    {
      "cell_type": "markdown",
      "metadata": {
        "id": "view-in-github",
        "colab_type": "text"
      },
      "source": [
        "<a href=\"https://colab.research.google.com/github/anu-shree-anil/Machine-learning-Algorithms/blob/main/Single_Layer_Perceptron.ipynb\" target=\"_parent\"><img src=\"https://colab.research.google.com/assets/colab-badge.svg\" alt=\"Open In Colab\"/></a>"
      ]
    },
    {
      "cell_type": "code",
      "metadata": {
        "id": "xVnQXjg4pWds"
      },
      "source": [
        "import pandas as pd\n",
        "import numpy as np\n",
        "from sklearn import datasets\n",
        "from sklearn import metrics\n",
        "from sklearn.model_selection import train_test_split\n",
        "import matplotlib.pyplot as plt\n",
        "import random\n",
        "import math\n",
        "from statistics import mean\n",
        "from sklearn.utils import shuffle\n",
        "from sklearn.metrics import confusion_matrix, precision_score, recall_score, f1_score, accuracy_score, classification_report\n"
      ],
      "execution_count": null,
      "outputs": []
    },
    {
      "cell_type": "code",
      "metadata": {
        "colab": {
          "base_uri": "https://localhost:8080/"
        },
        "id": "GW6HnBljpxR_",
        "outputId": "af51be8a-78de-4a8c-9554-abea1d5d3587"
      },
      "source": [
        "#loading the data\n",
        "iris=datasets.load_iris()\n",
        "print(iris.DESCR)\n",
        "df=pd.DataFrame(data=np.c_[iris['data'],iris['target']],columns=iris['feature_names']+['target'])\n",
        "X=pd.DataFrame(iris.data)\n",
        "Y=pd.DataFrame(iris.target)\n",
        "print(\"ORIGINAL DATA:\")\n",
        "print(df)\n",
        "\n",
        "#normalize the dataset\n",
        "for column in X.columns:\n",
        "    X[column] = (X[column] - X[column].min()) / (X[column].max() - X[column].min()) \n",
        "\n",
        "#One-vs-All\n",
        "df=X.copy()\n",
        "df['target']=Y\n",
        "\n",
        "#DATA PREPROCESSING- ONE HOT ENCODING\n",
        "df.insert(4,\"y1\",0, True)\n",
        "df.insert(5,\"y2\",0, True)\n",
        "df.insert(6,\"y3\",0, True)\n",
        "df.drop('target', inplace=True, axis=1)\n",
        "\n",
        "Y_arr=Y.to_numpy()\n",
        "D=df.to_numpy()\n",
        "j=0;\n",
        "for i in range(len(df)):\n",
        "  if Y_arr[i]==0:\n",
        "     D[i][4]=1\n",
        "  elif (Y_arr[i]==1):\n",
        "    D[i][5]=1\n",
        "  else:\n",
        "    D[i][6]=1\n",
        "\n",
        "df=pd.DataFrame(D)\n",
        "df = df.sample(frac = 1)\n",
        "print(\"After one hot encoding: \\n\",df)      "
      ],
      "execution_count": null,
      "outputs": [
        {
          "output_type": "stream",
          "name": "stdout",
          "text": [
            ".. _iris_dataset:\n",
            "\n",
            "Iris plants dataset\n",
            "--------------------\n",
            "\n",
            "**Data Set Characteristics:**\n",
            "\n",
            "    :Number of Instances: 150 (50 in each of three classes)\n",
            "    :Number of Attributes: 4 numeric, predictive attributes and the class\n",
            "    :Attribute Information:\n",
            "        - sepal length in cm\n",
            "        - sepal width in cm\n",
            "        - petal length in cm\n",
            "        - petal width in cm\n",
            "        - class:\n",
            "                - Iris-Setosa\n",
            "                - Iris-Versicolour\n",
            "                - Iris-Virginica\n",
            "                \n",
            "    :Summary Statistics:\n",
            "\n",
            "    ============== ==== ==== ======= ===== ====================\n",
            "                    Min  Max   Mean    SD   Class Correlation\n",
            "    ============== ==== ==== ======= ===== ====================\n",
            "    sepal length:   4.3  7.9   5.84   0.83    0.7826\n",
            "    sepal width:    2.0  4.4   3.05   0.43   -0.4194\n",
            "    petal length:   1.0  6.9   3.76   1.76    0.9490  (high!)\n",
            "    petal width:    0.1  2.5   1.20   0.76    0.9565  (high!)\n",
            "    ============== ==== ==== ======= ===== ====================\n",
            "\n",
            "    :Missing Attribute Values: None\n",
            "    :Class Distribution: 33.3% for each of 3 classes.\n",
            "    :Creator: R.A. Fisher\n",
            "    :Donor: Michael Marshall (MARSHALL%PLU@io.arc.nasa.gov)\n",
            "    :Date: July, 1988\n",
            "\n",
            "The famous Iris database, first used by Sir R.A. Fisher. The dataset is taken\n",
            "from Fisher's paper. Note that it's the same as in R, but not as in the UCI\n",
            "Machine Learning Repository, which has two wrong data points.\n",
            "\n",
            "This is perhaps the best known database to be found in the\n",
            "pattern recognition literature.  Fisher's paper is a classic in the field and\n",
            "is referenced frequently to this day.  (See Duda & Hart, for example.)  The\n",
            "data set contains 3 classes of 50 instances each, where each class refers to a\n",
            "type of iris plant.  One class is linearly separable from the other 2; the\n",
            "latter are NOT linearly separable from each other.\n",
            "\n",
            ".. topic:: References\n",
            "\n",
            "   - Fisher, R.A. \"The use of multiple measurements in taxonomic problems\"\n",
            "     Annual Eugenics, 7, Part II, 179-188 (1936); also in \"Contributions to\n",
            "     Mathematical Statistics\" (John Wiley, NY, 1950).\n",
            "   - Duda, R.O., & Hart, P.E. (1973) Pattern Classification and Scene Analysis.\n",
            "     (Q327.D83) John Wiley & Sons.  ISBN 0-471-22361-1.  See page 218.\n",
            "   - Dasarathy, B.V. (1980) \"Nosing Around the Neighborhood: A New System\n",
            "     Structure and Classification Rule for Recognition in Partially Exposed\n",
            "     Environments\".  IEEE Transactions on Pattern Analysis and Machine\n",
            "     Intelligence, Vol. PAMI-2, No. 1, 67-71.\n",
            "   - Gates, G.W. (1972) \"The Reduced Nearest Neighbor Rule\".  IEEE Transactions\n",
            "     on Information Theory, May 1972, 431-433.\n",
            "   - See also: 1988 MLC Proceedings, 54-64.  Cheeseman et al\"s AUTOCLASS II\n",
            "     conceptual clustering system finds 3 classes in the data.\n",
            "   - Many, many more ...\n",
            "ORIGINAL DATA:\n",
            "     sepal length (cm)  sepal width (cm)  ...  petal width (cm)  target\n",
            "0                  5.1               3.5  ...               0.2     0.0\n",
            "1                  4.9               3.0  ...               0.2     0.0\n",
            "2                  4.7               3.2  ...               0.2     0.0\n",
            "3                  4.6               3.1  ...               0.2     0.0\n",
            "4                  5.0               3.6  ...               0.2     0.0\n",
            "..                 ...               ...  ...               ...     ...\n",
            "145                6.7               3.0  ...               2.3     2.0\n",
            "146                6.3               2.5  ...               1.9     2.0\n",
            "147                6.5               3.0  ...               2.0     2.0\n",
            "148                6.2               3.4  ...               2.3     2.0\n",
            "149                5.9               3.0  ...               1.8     2.0\n",
            "\n",
            "[150 rows x 5 columns]\n",
            "After one hot encoding: \n",
            "             0         1         2         3    4    5    6\n",
            "2    0.111111  0.500000  0.050847  0.041667  1.0  0.0  0.0\n",
            "37   0.166667  0.666667  0.067797  0.000000  1.0  0.0  0.0\n",
            "127  0.500000  0.416667  0.661017  0.708333  0.0  0.0  1.0\n",
            "80   0.333333  0.166667  0.474576  0.416667  0.0  1.0  0.0\n",
            "92   0.416667  0.250000  0.508475  0.458333  0.0  1.0  0.0\n",
            "..        ...       ...       ...       ...  ...  ...  ...\n",
            "58   0.638889  0.375000  0.610169  0.500000  0.0  1.0  0.0\n",
            "107  0.833333  0.375000  0.898305  0.708333  0.0  0.0  1.0\n",
            "30   0.138889  0.458333  0.101695  0.041667  1.0  0.0  0.0\n",
            "4    0.194444  0.666667  0.067797  0.041667  1.0  0.0  0.0\n",
            "45   0.138889  0.416667  0.067797  0.083333  1.0  0.0  0.0\n",
            "\n",
            "[150 rows x 7 columns]\n"
          ]
        }
      ]
    },
    {
      "cell_type": "code",
      "metadata": {
        "id": "Wie3FEj5qfHs"
      },
      "source": [
        "def sigmoid_neuron(dataset,learning_rate,epochs):\n",
        "  rows = len(dataset.axes[0])\n",
        "  \n",
        "  X = dataset.iloc[:, :-3]\n",
        "  Y = dataset.iloc[:, -3:]\n",
        "\n",
        "  X.insert(0, \"DEFAULT\",1, True)\n",
        "  cols = len(X.axes[1]) \n",
        "  X_arr=X.to_numpy()\n",
        "  Y_arr=Y.to_numpy()\n",
        "\n",
        "  X_arr, Y_arr = shuffle(X_arr, Y_arr)\n",
        "  l=learning_rate\n",
        " # X_arr=np.append(X_arr,0, axis=0)\n",
        "  W=[]\n",
        "  for i in range(3):\n",
        "    w=[]\n",
        "    for j in range(cols):\n",
        "       w.append(0.1)\n",
        "    W.append(w)   \n",
        " \n",
        "  W= np.array(W)  \n",
        "  visited_index=[]\n",
        "  index = random.randint(0, len(X_arr)-1)\n",
        "  epoch=1\n",
        "  converged=True\n",
        "  err_in=0\n",
        "  err=0\n",
        "  while converged:\n",
        "    X_arr, Y_arr = shuffle(X_arr, Y_arr)\n",
        "    d=1/(1+np.exp(-np.dot(W,np.transpose(X_arr[index]))))\n",
        "    err_in= err_in+(1/2)*sum((d-Y_arr[index])**2)\n",
        "    \n",
        "    for i in range(3):\n",
        "        for j in range(cols):\n",
        "          W[i][j]=W[i][j]+(l*(Y_arr[index][i]-d[i])*X_arr[index][j]*d[i]*(1-d[i]))\n",
        "    \n",
        "    index = random.randint(0, len(X_arr)-1)\n",
        "    visited_index.append(index)\n",
        "    \n",
        "    if (len(set(visited_index))==len(X_arr)):\n",
        "      epoch=epoch+1\n",
        "      performance=predict_sigmoid(dataset,W)\n",
        "      d=1/(1+np.exp(-np.dot(W,np.transpose(X_arr[index]))))\n",
        "      err= err+(1/2)*sum((d-Y_arr[index])**2)\n",
        "    \n",
        "      if(abs(err-err_in)<0.001 or epoch==epochs):\n",
        "        print(\"Successfully converged\")\n",
        "        print(\"No of epochs: \",epoch)\n",
        "        print(\"Accuracy :\",performance*100)\n",
        "        converged=False\n",
        "      else:\n",
        "        visited_index=[]\n",
        "        err_in=0\n",
        "        err=0  \n",
        "\n",
        "  return W\n"
      ],
      "execution_count": null,
      "outputs": []
    },
    {
      "cell_type": "code",
      "metadata": {
        "id": "FRKUm81CMs07"
      },
      "source": [
        "def predict_sigmoid(dataset,w):\n",
        "  X = dataset.iloc[:, :-3]\n",
        "  Y = dataset.iloc[:, -3:]\n",
        "\n",
        "  X.insert(0, \"DEFAULT\",1, True)\n",
        "  X_arr=X.to_numpy()\n",
        "  Y_arr=Y.to_numpy()\n",
        "  Y_predict=np.zeros(len(Y_arr))\n",
        "  Y=np.zeros(len(Y_arr))\n",
        "  \n",
        "  d=[]\n",
        "  for i in range(len(Y_arr)):\n",
        "     d1= 1/(1+np.exp(-(np.dot(w,np.transpose(X_arr[i])))))\n",
        "     d.append(d1)\n",
        " \n",
        "  for i in range(len(d)):\n",
        "     max_index= np.argmax(d[i], axis=0)\n",
        "     Y_predict[i]=max_index\n",
        "\n",
        "  for i in range(len(Y_arr)):\n",
        "    max_index= np.argmax(Y_arr[i], axis=0)\n",
        "    Y[i]=max_index    \n",
        "\n",
        "  test_acc=accuracy_score(Y,Y_predict)  \n",
        "  \n",
        "  return test_acc"
      ],
      "execution_count": null,
      "outputs": []
    },
    {
      "cell_type": "code",
      "metadata": {
        "colab": {
          "base_uri": "https://localhost:8080/"
        },
        "id": "Sdckp7f3O_VY",
        "outputId": "32959038-e41c-4fee-9cd0-c3dabbd03b70"
      },
      "source": [
        "#splitting the dataset\n",
        "train = df.sample(frac=0.6)\n",
        "remaining = df.drop(train.index)\n",
        "valid=remaining.sample(frac=0.5)\n",
        "test=remaining.drop(valid.index)\n",
        "\n",
        "#Training the model\n",
        "w=sigmoid_neuron(train,0.1,100)"
      ],
      "execution_count": null,
      "outputs": [
        {
          "output_type": "stream",
          "name": "stdout",
          "text": [
            "Successfully converged\n",
            "No of epochs:  100\n",
            "Accuracy : 92.22222222222223\n"
          ]
        }
      ]
    },
    {
      "cell_type": "code",
      "metadata": {
        "colab": {
          "base_uri": "https://localhost:8080/"
        },
        "id": "Lt-VCKriNRQi",
        "outputId": "26e130cf-e17f-4203-90a5-a7bc7edff784"
      },
      "source": [
        "#Hyperparameter Tuning\n",
        "w1=sigmoid_neuron(valid,0.1,100)"
      ],
      "execution_count": null,
      "outputs": [
        {
          "output_type": "stream",
          "name": "stdout",
          "text": [
            "Successfully converged\n",
            "No of epochs:  100\n",
            "Accuracy : 93.33333333333333\n"
          ]
        }
      ]
    },
    {
      "cell_type": "code",
      "metadata": {
        "colab": {
          "base_uri": "https://localhost:8080/"
        },
        "id": "3Zot8H8XNgG_",
        "outputId": "a8b1a703-a45b-4d7b-b2c9-e6a38919d202"
      },
      "source": [
        "w1=sigmoid_neuron(valid,0.2,100)"
      ],
      "execution_count": null,
      "outputs": [
        {
          "output_type": "stream",
          "name": "stdout",
          "text": [
            "Successfully converged\n",
            "No of epochs:  100\n",
            "Accuracy : 93.33333333333333\n"
          ]
        }
      ]
    },
    {
      "cell_type": "code",
      "metadata": {
        "colab": {
          "base_uri": "https://localhost:8080/"
        },
        "id": "AEU-Cb0pNnTc",
        "outputId": "cd10ee58-b498-40ef-b0ad-77eb0ca2f2c9"
      },
      "source": [
        "w1=sigmoid_neuron(valid,0.3,100)"
      ],
      "execution_count": null,
      "outputs": [
        {
          "output_type": "stream",
          "name": "stdout",
          "text": [
            "Successfully converged\n",
            "No of epochs:  100\n",
            "Accuracy : 100.0\n"
          ]
        }
      ]
    },
    {
      "cell_type": "code",
      "metadata": {
        "colab": {
          "base_uri": "https://localhost:8080/"
        },
        "id": "fcHcE9f2Npwo",
        "outputId": "fafbfa17-11b5-4e9e-a4c4-d2fa3d1def59"
      },
      "source": [
        "w1=sigmoid_neuron(valid,0.4,100)"
      ],
      "execution_count": null,
      "outputs": [
        {
          "output_type": "stream",
          "name": "stdout",
          "text": [
            "Successfully converged\n",
            "No of epochs:  100\n",
            "Accuracy : 96.66666666666667\n"
          ]
        }
      ]
    },
    {
      "cell_type": "code",
      "metadata": {
        "colab": {
          "base_uri": "https://localhost:8080/"
        },
        "id": "xE7mgxAFNuPD",
        "outputId": "8c85cb76-8849-43f2-dda4-03bda225662c"
      },
      "source": [
        "w1=sigmoid_neuron(valid,0.5,100)"
      ],
      "execution_count": null,
      "outputs": [
        {
          "output_type": "stream",
          "name": "stdout",
          "text": [
            "Successfully converged\n",
            "No of epochs:  100\n",
            "Accuracy : 100.0\n"
          ]
        }
      ]
    },
    {
      "cell_type": "code",
      "metadata": {
        "colab": {
          "base_uri": "https://localhost:8080/"
        },
        "id": "CqoaHkWLNzCV",
        "outputId": "22fe1b29-dfc3-426d-bdd8-b814489fefd8"
      },
      "source": [
        "#Training with best hyperparameters\n",
        "w=sigmoid_neuron(train,0.3,100)"
      ],
      "execution_count": null,
      "outputs": [
        {
          "output_type": "stream",
          "name": "stdout",
          "text": [
            "Successfully converged\n",
            "No of epochs:  100\n",
            "Accuracy : 92.22222222222223\n"
          ]
        }
      ]
    },
    {
      "cell_type": "code",
      "metadata": {
        "colab": {
          "base_uri": "https://localhost:8080/",
          "height": 517
        },
        "id": "2iimlq6qOCIS",
        "outputId": "6fe4b7cc-870e-48fa-de78-c612ea150e72"
      },
      "source": [
        "#checking for overfitting\n",
        "epochs=[10,11,12,15,20]\n",
        "train_acc=[]\n",
        "valid_acc=[]\n",
        "\n",
        "for i in epochs:\n",
        "    w=sigmoid_neuron(train,0.3,i)\n",
        "    train_acc.append(predict_sigmoid(train,w))\n",
        "    valid_acc.append(predict_sigmoid(valid,w))\n",
        "\n",
        "plt.plot(epochs,train_acc, label = \"Training Accuracy\")\n",
        "plt.plot(epochs,valid_acc, label = \"Validation Accuracy\")\n",
        "plt.legend()\n",
        "plt.show()  "
      ],
      "execution_count": null,
      "outputs": [
        {
          "output_type": "stream",
          "name": "stdout",
          "text": [
            "Successfully converged\n",
            "No of epochs:  10\n",
            "Accuracy : 88.88888888888889\n",
            "Successfully converged\n",
            "No of epochs:  11\n",
            "Accuracy : 86.66666666666667\n",
            "Successfully converged\n",
            "No of epochs:  12\n",
            "Accuracy : 92.22222222222223\n",
            "Successfully converged\n",
            "No of epochs:  15\n",
            "Accuracy : 88.88888888888889\n",
            "Successfully converged\n",
            "No of epochs:  20\n",
            "Accuracy : 92.22222222222223\n"
          ]
        },
        {
          "output_type": "display_data",
          "data": {
            "image/png": "[encoded data removed]",
            "text/plain": [
              "<Figure size 432x288 with 1 Axes>"
            ]
          },
          "metadata": {
            "needs_background": "light"
          }
        }
      ]
    },
    {
      "cell_type": "code",
      "metadata": {
        "id": "MNmMyxrXSstc"
      },
      "source": [
        "#k-fold crossvalidation\n",
        "k=[]\n",
        "for i in range(5):\n",
        "   fold = df.sample(frac=0.2)\n",
        "   df = df.drop(fold.index)\n",
        "   k.append(fold) "
      ],
      "execution_count": null,
      "outputs": []
    },
    {
      "cell_type": "code",
      "metadata": {
        "colab": {
          "base_uri": "https://localhost:8080/"
        },
        "id": "p3txpAdSUBfn",
        "outputId": "5281d712-c3f7-4513-c18e-16d4a1175019"
      },
      "source": [
        "test=[]\n",
        "train=[]\n",
        "for i in range(len(k)):\n",
        "    frames=[]\n",
        "    for j in range(len(k)):\n",
        "       if(i!=j):\n",
        "         frames.append(k[j])\n",
        "       else:\n",
        "          test=k[j] \n",
        "    train=pd.concat(frames) \n",
        "    w=sigmoid_neuron(train,0.3,100)\n",
        "    print(\"Accuracy for \",(i+1),\" fold: \")\n",
        "    print(predict_sigmoid(test,w)*100)\n",
        "\n",
        "prediction(test,w)    "
      ],
      "execution_count": null,
      "outputs": [
        {
          "output_type": "stream",
          "name": "stdout",
          "text": [
            "Successfully converged\n",
            "No of epochs:  100\n",
            "Accuracy : 82.6086956521739\n",
            "Accuracy for  1  fold: \n",
            "80.0\n",
            "Successfully converged\n",
            "No of epochs:  100\n",
            "Accuracy : 92.0\n",
            "Accuracy for  2  fold: \n",
            "87.5\n",
            "Successfully converged\n",
            "No of epochs:  100\n",
            "Accuracy : 88.88888888888889\n",
            "Accuracy for  3  fold: \n",
            "83.33333333333334\n",
            "Successfully converged\n",
            "No of epochs:  100\n",
            "Accuracy : 89.28571428571429\n",
            "Accuracy for  4  fold: \n",
            "60.0\n",
            "Successfully converged\n",
            "No of epochs:  100\n",
            "Accuracy : 89.65517241379311\n",
            "Accuracy for  5  fold: \n",
            "50.0\n",
            "Class-wise Accuracy:  [1. 0. 1.]\n",
            "Class-wise Precision:  [1.         1.         0.33333333]\n",
            "Class-wise Recall:  [1. 0. 1.]\n"
          ]
        }
      ]
    },
    {
      "cell_type": "code",
      "metadata": {
        "id": "w-KcLX_RVON9"
      },
      "source": [
        "def prediction(dataset,w):\n",
        "  X = dataset.iloc[:, :-3]\n",
        "  Y = dataset.iloc[:, -3:]\n",
        "\n",
        "  X.insert(0, \"DEFAULT\",1, True)\n",
        "  X_arr=X.to_numpy()\n",
        "  Y_arr=Y.to_numpy()\n",
        "  Y_predict=np.zeros(len(Y_arr))\n",
        "  Y=np.zeros(len(Y_arr))\n",
        "  \n",
        "  d=[]\n",
        "  for i in range(len(Y_arr)):\n",
        "     d1= 1/(1+np.exp(-(np.dot(w,np.transpose(X_arr[i])))))\n",
        "     d.append(d1)\n",
        " \n",
        "  for i in range(len(d)):\n",
        "     max_index= np.argmax(d[i], axis=0)\n",
        "     Y_predict[i]=max_index\n",
        "\n",
        "  for i in range(len(Y_arr)):\n",
        "    max_index= np.argmax(Y_arr[i], axis=0)\n",
        "    Y[i]=max_index    \n",
        "\n",
        "  cm = confusion_matrix(Y, Y_predict) \n",
        "  p=precision_score(Y, Y_predict, average=None, zero_division=1)\n",
        "  r=recall_score(Y, Y_predict, average=None, zero_division=1)\n",
        "  \n",
        "  #Now the normalize the diagonal entries\n",
        "\n",
        "  cm = cm.astype('float') / cm.sum(axis=1) \n",
        "  print(\"Class-wise Accuracy: \",cm.diagonal())\n",
        "  print(\"Class-wise Precision: \",p)\n",
        "  print(\"Class-wise Recall: \",r)\n",
        " "
      ],
      "execution_count": null,
      "outputs": []
    }
  ]
}