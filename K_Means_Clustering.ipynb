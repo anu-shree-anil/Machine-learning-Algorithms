{
  "nbformat": 4,
  "nbformat_minor": 0,
  "metadata": {
    "colab": {
      "name": "K-Means Clustering.ipynb",
      "provenance": [],
      "collapsed_sections": [],
      "authorship_tag": "ABX9TyOF/bXqhh2IChSUHeQoHZ5i",
      "include_colab_link": true
    },
    "kernelspec": {
      "name": "python3",
      "display_name": "Python 3"
    },
    "language_info": {
      "name": "python"
    }
  },
  "cells": [
    {
      "cell_type": "markdown",
      "metadata": {
        "id": "view-in-github",
        "colab_type": "text"
      },
      "source": [
        "<a href=\"https://colab.research.google.com/github/anu-shree-anil/Machine-learning-Algorithms/blob/main/K_Means_Clustering.ipynb\" target=\"_parent\"><img src=\"https://colab.research.google.com/assets/colab-badge.svg\" alt=\"Open In Colab\"/></a>"
      ]
    },
    {
      "cell_type": "code",
      "metadata": {
        "id": "CAXsOseeIK0N"
      },
      "source": [
        "import pandas as pd\n",
        "import numpy as np\n",
        "from sklearn import datasets\n",
        "from sklearn import metrics\n",
        "from sklearn.model_selection import train_test_split\n",
        "import matplotlib.pyplot as plt\n",
        "import random\n",
        "import math\n",
        "from statistics import mean\n",
        "from sklearn.utils import shuffle\n",
        "from sklearn.preprocessing import LabelBinarizer\n",
        "from sklearn.model_selection import KFold\n",
        "from sklearn.metrics import confusion_matrix, precision_score, recall_score, f1_score, accuracy_score, classification_report\n"
      ],
      "execution_count": 1,
      "outputs": []
    },
    {
      "cell_type": "code",
      "metadata": {
        "colab": {
          "base_uri": "https://localhost:8080/"
        },
        "id": "n-gqbXDlKwiv",
        "outputId": "5c7db277-afa3-49b2-df17-4b776fc18432"
      },
      "source": [
        "#loading the data\n",
        "wine=datasets.load_wine()\n",
        "print(wine.DESCR)\n",
        "df=pd.DataFrame(data=np.c_[wine['data'],wine['target']],columns=wine['feature_names']+['target'])\n",
        "X=pd.DataFrame(wine.data)\n",
        "print(\"ORIGINAL DATA:\")\n",
        "print(df)\n",
        "\n",
        "#normalize the dataset\n",
        "for column in X.columns:\n",
        "    X[column] = (X[column] - X[column].min()) / (X[column].max() - X[column].min()) \n",
        "\n",
        "df=X.copy()\n",
        "\n",
        "print(\"Dataset without the labels: \\n\",df)\n",
        "df=df.to_numpy()"
      ],
      "execution_count": 2,
      "outputs": [
        {
          "output_type": "stream",
          "name": "stdout",
          "text": [
            ".. _wine_dataset:\n",
            "\n",
            "Wine recognition dataset\n",
            "------------------------\n",
            "\n",
            "**Data Set Characteristics:**\n",
            "\n",
            "    :Number of Instances: 178 (50 in each of three classes)\n",
            "    :Number of Attributes: 13 numeric, predictive attributes and the class\n",
            "    :Attribute Information:\n",
            " \t\t- Alcohol\n",
            " \t\t- Malic acid\n",
            " \t\t- Ash\n",
            "\t\t- Alcalinity of ash  \n",
            " \t\t- Magnesium\n",
            "\t\t- Total phenols\n",
            " \t\t- Flavanoids\n",
            " \t\t- Nonflavanoid phenols\n",
            " \t\t- Proanthocyanins\n",
            "\t\t- Color intensity\n",
            " \t\t- Hue\n",
            " \t\t- OD280/OD315 of diluted wines\n",
            " \t\t- Proline\n",
            "\n",
            "    - class:\n",
            "            - class_0\n",
            "            - class_1\n",
            "            - class_2\n",
            "\t\t\n",
            "    :Summary Statistics:\n",
            "    \n",
            "    ============================= ==== ===== ======= =====\n",
            "                                   Min   Max   Mean     SD\n",
            "    ============================= ==== ===== ======= =====\n",
            "    Alcohol:                      11.0  14.8    13.0   0.8\n",
            "    Malic Acid:                   0.74  5.80    2.34  1.12\n",
            "    Ash:                          1.36  3.23    2.36  0.27\n",
            "    Alcalinity of Ash:            10.6  30.0    19.5   3.3\n",
            "    Magnesium:                    70.0 162.0    99.7  14.3\n",
            "    Total Phenols:                0.98  3.88    2.29  0.63\n",
            "    Flavanoids:                   0.34  5.08    2.03  1.00\n",
            "    Nonflavanoid Phenols:         0.13  0.66    0.36  0.12\n",
            "    Proanthocyanins:              0.41  3.58    1.59  0.57\n",
            "    Colour Intensity:              1.3  13.0     5.1   2.3\n",
            "    Hue:                          0.48  1.71    0.96  0.23\n",
            "    OD280/OD315 of diluted wines: 1.27  4.00    2.61  0.71\n",
            "    Proline:                       278  1680     746   315\n",
            "    ============================= ==== ===== ======= =====\n",
            "\n",
            "    :Missing Attribute Values: None\n",
            "    :Class Distribution: class_0 (59), class_1 (71), class_2 (48)\n",
            "    :Creator: R.A. Fisher\n",
            "    :Donor: Michael Marshall (MARSHALL%PLU@io.arc.nasa.gov)\n",
            "    :Date: July, 1988\n",
            "\n",
            "This is a copy of UCI ML Wine recognition datasets.\n",
            "https://archive.ics.uci.edu/ml/machine-learning-databases/wine/wine.data\n",
            "\n",
            "The data is the results of a chemical analysis of wines grown in the same\n",
            "region in Italy by three different cultivators. There are thirteen different\n",
            "measurements taken for different constituents found in the three types of\n",
            "wine.\n",
            "\n",
            "Original Owners: \n",
            "\n",
            "Forina, M. et al, PARVUS - \n",
            "An Extendible Package for Data Exploration, Classification and Correlation. \n",
            "Institute of Pharmaceutical and Food Analysis and Technologies,\n",
            "Via Brigata Salerno, 16147 Genoa, Italy.\n",
            "\n",
            "Citation:\n",
            "\n",
            "Lichman, M. (2013). UCI Machine Learning Repository\n",
            "[https://archive.ics.uci.edu/ml]. Irvine, CA: University of California,\n",
            "School of Information and Computer Science. \n",
            "\n",
            ".. topic:: References\n",
            "\n",
            "  (1) S. Aeberhard, D. Coomans and O. de Vel, \n",
            "  Comparison of Classifiers in High Dimensional Settings, \n",
            "  Tech. Rep. no. 92-02, (1992), Dept. of Computer Science and Dept. of  \n",
            "  Mathematics and Statistics, James Cook University of North Queensland. \n",
            "  (Also submitted to Technometrics). \n",
            "\n",
            "  The data was used with many others for comparing various \n",
            "  classifiers. The classes are separable, though only RDA \n",
            "  has achieved 100% correct classification. \n",
            "  (RDA : 100%, QDA 99.4%, LDA 98.9%, 1NN 96.1% (z-transformed data)) \n",
            "  (All results using the leave-one-out technique) \n",
            "\n",
            "  (2) S. Aeberhard, D. Coomans and O. de Vel, \n",
            "  \"THE CLASSIFICATION PERFORMANCE OF RDA\" \n",
            "  Tech. Rep. no. 92-01, (1992), Dept. of Computer Science and Dept. of \n",
            "  Mathematics and Statistics, James Cook University of North Queensland. \n",
            "  (Also submitted to Journal of Chemometrics).\n",
            "\n",
            "ORIGINAL DATA:\n",
            "     alcohol  malic_acid   ash  ...  od280/od315_of_diluted_wines  proline  target\n",
            "0      14.23        1.71  2.43  ...                          3.92   1065.0     0.0\n",
            "1      13.20        1.78  2.14  ...                          3.40   1050.0     0.0\n",
            "2      13.16        2.36  2.67  ...                          3.17   1185.0     0.0\n",
            "3      14.37        1.95  2.50  ...                          3.45   1480.0     0.0\n",
            "4      13.24        2.59  2.87  ...                          2.93    735.0     0.0\n",
            "..       ...         ...   ...  ...                           ...      ...     ...\n",
            "173    13.71        5.65  2.45  ...                          1.74    740.0     2.0\n",
            "174    13.40        3.91  2.48  ...                          1.56    750.0     2.0\n",
            "175    13.27        4.28  2.26  ...                          1.56    835.0     2.0\n",
            "176    13.17        2.59  2.37  ...                          1.62    840.0     2.0\n",
            "177    14.13        4.10  2.74  ...                          1.60    560.0     2.0\n",
            "\n",
            "[178 rows x 14 columns]\n",
            "Dataset without the labels: \n",
            "            0         1         2   ...        10        11        12\n",
            "0    0.842105  0.191700  0.572193  ...  0.455285  0.970696  0.561341\n",
            "1    0.571053  0.205534  0.417112  ...  0.463415  0.780220  0.550642\n",
            "2    0.560526  0.320158  0.700535  ...  0.447154  0.695971  0.646933\n",
            "3    0.878947  0.239130  0.609626  ...  0.308943  0.798535  0.857347\n",
            "4    0.581579  0.365613  0.807487  ...  0.455285  0.608059  0.325963\n",
            "..        ...       ...       ...  ...       ...       ...       ...\n",
            "173  0.705263  0.970356  0.582888  ...  0.130081  0.172161  0.329529\n",
            "174  0.623684  0.626482  0.598930  ...  0.178862  0.106227  0.336662\n",
            "175  0.589474  0.699605  0.481283  ...  0.089431  0.106227  0.397290\n",
            "176  0.563158  0.365613  0.540107  ...  0.097561  0.128205  0.400856\n",
            "177  0.815789  0.664032  0.737968  ...  0.105691  0.120879  0.201141\n",
            "\n",
            "[178 rows x 13 columns]\n"
          ]
        }
      ]
    },
    {
      "cell_type": "code",
      "metadata": {
        "id": "ZviDUwSVOZ2W",
        "colab": {
          "base_uri": "https://localhost:8080/",
          "height": 446
        },
        "outputId": "7acfd447-0c07-4d18-8435-8ee41d134e20"
      },
      "source": [
        "def centroids(dataset,k):\n",
        "\n",
        "  number_of_rows = dataset.shape[0]\n",
        "  random_indices = np.random.choice(number_of_rows, size=k, replace=False)\n",
        "  centroids = dataset[random_indices, :]\n",
        "\n",
        "  return centroids \n",
        "\n",
        "def euclidean(x1,x2):\n",
        "    square = np.square(x1 - x2)\n",
        "    # Get the sum of the square\n",
        "    sum_square = np.sum(square)\n",
        "    distance = np.sqrt(sum_square)\n",
        "\n",
        "    return distance\n",
        "\n",
        "def k_means(dataset,k,epochs):\n",
        "  epoch=0\n",
        "  cluster=np.array(centroids(dataset,k))\n",
        "  converged=True\n",
        "  \n",
        "  while converged:\n",
        "    sse=0\n",
        "    distance_data=[]\n",
        "    for i in range(len(dataset)):\n",
        "      l=[]\n",
        "      for j in range(k):\n",
        "        l.append(euclidean(dataset[i],cluster[j]))\n",
        "    \n",
        "      l.append(l.index(min(l))+1)\n",
        "      distance_data.append(l)\n",
        "    \n",
        "    #updating the clusters\n",
        "    new_cluster=[]\n",
        "    \n",
        "    for j in range(k):\n",
        "      error=0\n",
        "      mean_cluster=[]\n",
        "      for i in range(len(distance_data)):\n",
        "          if distance_data[i][-1]==j+1:\n",
        "            mean_cluster.append(dataset[i])\n",
        "            error=error+np.sum(np.square(dataset[i] - cluster[j]))\n",
        "      sse=sse+error      \n",
        "      mean_cluster = np.array(mean_cluster)   \n",
        "      new_cluster.append(mean_cluster.mean(axis=0) )\n",
        "    \n",
        "    new_cluster=np.array(new_cluster)\n",
        "    epoch=epoch+1  \n",
        "    if((new_cluster==cluster).all() or epoch>epochs):\n",
        "        converged=False\n",
        "    else:\n",
        "     for j in range(k):\n",
        "       cluster[j]=new_cluster[j]\n",
        "\n",
        "  return sse,cluster\n",
        "\n",
        "sse=k_means(df,3,300)\n",
        "print(sse)\n",
        "\n",
        "k_values=[1,2,3,4,5,6,7,8]\n",
        "sse_elbow=[]\n",
        "for i in range(len(k_values)):\n",
        "  sse=k_means(df,k_values[i],300)\n",
        "  sse_elbow.append(sse[0])\n",
        "\n",
        "plt.xlabel('k-values')\n",
        "plt.ylabel('sse-score')\n",
        "plt.title('Elbow Method')\n",
        "plt.plot(k_values, sse_elbow)\n",
        "# function to show the plot\n",
        "plt.show()  "
      ],
      "execution_count": 6,
      "outputs": [
        {
          "output_type": "stream",
          "name": "stdout",
          "text": [
            "(48.97029115513917, array([[0.544689  , 0.47844053, 0.56013612, 0.53833177, 0.31146245,\n",
            "        0.24476489, 0.10713464, 0.61852487, 0.22827646, 0.4826404 ,\n",
            "        0.19254989, 0.16090576, 0.24739982],\n",
            "       [0.31566416, 0.24330259, 0.47330447, 0.49762723, 0.2494824 ,\n",
            "        0.45495348, 0.38399973, 0.41090147, 0.3973762 , 0.14956119,\n",
            "        0.47038328, 0.58968545, 0.15846976],\n",
            "       [0.7077193 , 0.24189723, 0.58636364, 0.34424399, 0.4115942 ,\n",
            "        0.64327586, 0.55587201, 0.29937107, 0.47865405, 0.35688282,\n",
            "        0.48116531, 0.69133089, 0.59901331]]))\n"
          ]
        },
        {
          "output_type": "display_data",
          "data": {
            "image/png": "[encoded data removed]",
            "text/plain": [
              "<Figure size 432x288 with 1 Axes>"
            ]
          },
          "metadata": {
            "needs_background": "light"
          }
        }
      ]
    },
    {
      "cell_type": "code",
      "metadata": {
        "colab": {
          "base_uri": "https://localhost:8080/"
        },
        "id": "YNIx1MG9UuQu",
        "outputId": "6abe63ea-dcb9-4ef9-f6cc-b65c861c8c4f"
      },
      "source": [
        "#using inbuilt functions\n",
        "from sklearn.cluster import KMeans\n",
        "Kmean = KMeans(n_clusters=3)\n",
        "Kmean.fit(df)"
      ],
      "execution_count": 4,
      "outputs": [
        {
          "output_type": "execute_result",
          "data": {
            "text/plain": [
              "KMeans(algorithm='auto', copy_x=True, init='k-means++', max_iter=300,\n",
              "       n_clusters=3, n_init=10, n_jobs=None, precompute_distances='auto',\n",
              "       random_state=None, tol=0.0001, verbose=0)"
            ]
          },
          "metadata": {},
          "execution_count": 4
        }
      ]
    },
    {
      "cell_type": "code",
      "metadata": {
        "colab": {
          "base_uri": "https://localhost:8080/",
          "height": 447
        },
        "id": "Wds3RAcPVHEy",
        "outputId": "fd2e4460-caa2-47ed-fba2-1d8165b5641b"
      },
      "source": [
        "print(Kmean.cluster_centers_)\n",
        "print(Kmean.inertia_)\n",
        "wcss = [] \n",
        "k_values=[1,2,3,4,5,6,7,8]\n",
        "for i in k_values: \n",
        "    kmeans = KMeans(n_clusters = i, init = 'k-means++', random_state = 42)\n",
        "    kmeans.fit(X) \n",
        "    wcss.append(kmeans.inertia_)\n",
        "\n",
        "plt.plot(k_values, wcss)\n",
        "plt.xlabel('Number of clusters')\n",
        "plt.ylabel('WCSS') \n",
        "plt.show()    "
      ],
      "execution_count": 5,
      "outputs": [
        {
          "output_type": "stream",
          "name": "stdout",
          "text": [
            "[[0.544689   0.47844053 0.56013612 0.53833177 0.31146245 0.24476489\n",
            "  0.10713464 0.61852487 0.22827646 0.4826404  0.19254989 0.16090576\n",
            "  0.24739982]\n",
            " [0.31137521 0.23689915 0.47291703 0.49991686 0.2477209  0.45305895\n",
            "  0.38240098 0.4117468  0.39742546 0.14773478 0.47351167 0.58897554\n",
            "  0.15640099]\n",
            " [0.70565142 0.24842869 0.58490401 0.3444313  0.41072701 0.64211419\n",
            "  0.55467939 0.30034024 0.47727155 0.35534046 0.47780888 0.69038612\n",
            "  0.59389397]]\n",
            "48.9605171366765\n"
          ]
        },
        {
          "output_type": "display_data",
          "data": {
            "image/png": "[encoded data removed]",
            "text/plain": [
              "<Figure size 432x288 with 1 Axes>"
            ]
          },
          "metadata": {
            "needs_background": "light"
          }
        }
      ]
    }
  ]
}